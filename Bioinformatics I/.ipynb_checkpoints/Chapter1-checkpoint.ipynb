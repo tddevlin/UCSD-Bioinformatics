{
 "cells": [
  {
   "cell_type": "markdown",
   "metadata": {},
   "source": [
    "# Where in the Genome Does DNA Replication Begin?"
   ]
  },
  {
   "cell_type": "markdown",
   "metadata": {},
   "source": [
    "[Here](https://stepic.org/s/BrqnabRZ) is a link to the interactive text.\n",
    "\n",
    "`genome` stores the genome of *Vibrio cholerae*, which is 1,108,250 nucleotides long."
   ]
  },
  {
   "cell_type": "code",
   "execution_count": 2,
   "metadata": {
    "collapsed": false
   },
   "outputs": [
    {
     "data": {
      "text/plain": [
       "1108250"
      ]
     },
     "execution_count": 2,
     "metadata": {},
     "output_type": "execute_result"
    }
   ],
   "source": [
    "genome = readdlm(\"data/Vibrio_cholerae.txt\")[1,1]\n",
    "length(genome)"
   ]
  },
  {
   "cell_type": "markdown",
   "metadata": {},
   "source": [
    "## Code Challenge (1.2 - Step 6)\n",
    "* **Input**: Strings `text` and `pattern`.\n",
    "* **Output**: How many times `pattern` appears in `text`."
   ]
  },
  {
   "cell_type": "code",
   "execution_count": 3,
   "metadata": {
    "collapsed": false
   },
   "outputs": [
    {
     "data": {
      "text/plain": [
       "pattern_count (generic function with 1 method)"
      ]
     },
     "execution_count": 3,
     "metadata": {},
     "output_type": "execute_result"
    }
   ],
   "source": [
    "function pattern_count(text, pattern)\n",
    "    count = 0\n",
    "    for i = 1:(length(text) - length(pattern) + 1)\n",
    "        if text[i:(i + length(pattern) - 1)] == pattern\n",
    "            count += 1\n",
    "        end\n",
    "    end\n",
    "    return count\n",
    "end"
   ]
  },
  {
   "cell_type": "code",
   "execution_count": 4,
   "metadata": {
    "collapsed": false
   },
   "outputs": [
    {
     "data": {
      "text/plain": [
       "32"
      ]
     },
     "execution_count": 4,
     "metadata": {},
     "output_type": "execute_result"
    }
   ],
   "source": [
    "data = readdlm(\"data/dataset_2_6.txt\")\n",
    "pattern_count(data[1], data[2])"
   ]
  },
  {
   "cell_type": "markdown",
   "metadata": {},
   "source": [
    "##Code Challenge (1.2 - Step 9)\n",
    "* **Input**: A string `text` and an integer $k$.\n",
    "* **Output**: All of the most frequent $k$-mers in `text`."
   ]
  },
  {
   "cell_type": "code",
   "execution_count": 5,
   "metadata": {
    "collapsed": false
   },
   "outputs": [
    {
     "data": {
      "text/plain": [
       "frequent_words (generic function with 1 method)"
      ]
     },
     "execution_count": 5,
     "metadata": {},
     "output_type": "execute_result"
    }
   ],
   "source": [
    "function frequent_words(text, k)\n",
    "    frequentPatterns = Set()\n",
    "    count = Array{Int64}(length(text) - k + 1)\n",
    "    for i = 1:(length(text) - k + 1)\n",
    "        pattern = text[i:(i+k-1)]\n",
    "        count[i] = pattern_count(text, pattern)\n",
    "    end\n",
    "    maxCount = maximum(count)\n",
    "    for i = 1:(length(text) - k + 1)\n",
    "        if count[i] == maxCount\n",
    "            push!(frequentPatterns, text[i:(i+k-1)])\n",
    "        end\n",
    "    end\n",
    "    return frequentPatterns\n",
    "end     "
   ]
  },
  {
   "cell_type": "code",
   "execution_count": 6,
   "metadata": {
    "collapsed": false
   },
   "outputs": [
    {
     "data": {
      "text/plain": [
       "Set(Any[\"CAGCATAGACAT\"])"
      ]
     },
     "execution_count": 6,
     "metadata": {},
     "output_type": "execute_result"
    }
   ],
   "source": [
    "data = readdlm(\"data/dataset_2_9.txt\")\n",
    "frequent_words(data[1], data[2])"
   ]
  },
  {
   "cell_type": "markdown",
   "metadata": {},
   "source": [
    "##Charging Station - Pattern to Number and Back\n",
    "* **Input**: A DNA string `pattern`.\n",
    "* **Output**: The integer corresponding to the index of `pattern` (0-indexed) if all DNA strings of the same length as `pattern`  were ordered lexicographically. Equivalent to conversion from base-4 to decimal."
   ]
  },
  {
   "cell_type": "code",
   "execution_count": 7,
   "metadata": {
    "collapsed": false
   },
   "outputs": [
    {
     "data": {
      "text/plain": [
       "pattern_to_number (generic function with 1 method)"
      ]
     },
     "execution_count": 7,
     "metadata": {},
     "output_type": "execute_result"
    }
   ],
   "source": [
    "function pattern_to_number(pattern)\n",
    "    if pattern == \"\"\n",
    "        return 0\n",
    "    else\n",
    "        symbol = last(pattern)\n",
    "        prefix = pattern[1:(length(pattern)-1)]\n",
    "        return 4 * pattern_to_number(prefix) + symbol_to_number(symbol)\n",
    "    end\n",
    "end"
   ]
  },
  {
   "cell_type": "markdown",
   "metadata": {},
   "source": [
    "* **Input**: A DNA char `symbol`.\n",
    "* **Output**: 0, 1, 2, or 3 for 'A','C','G', or 'T', respectively."
   ]
  },
  {
   "cell_type": "code",
   "execution_count": 8,
   "metadata": {
    "collapsed": false,
    "scrolled": true
   },
   "outputs": [
    {
     "data": {
      "text/plain": [
       "symbol_to_number (generic function with 1 method)"
      ]
     },
     "execution_count": 8,
     "metadata": {},
     "output_type": "execute_result"
    }
   ],
   "source": [
    "function symbol_to_number(symbol)\n",
    "    dict = Dict('A' => 0, 'C' => 1, 'G' => 2, 'T' => 3)\n",
    "    return dict[symbol]\n",
    "end"
   ]
  },
  {
   "cell_type": "code",
   "execution_count": 9,
   "metadata": {
    "collapsed": false,
    "scrolled": true
   },
   "outputs": [
    {
     "data": {
      "text/plain": [
       "253165471356"
      ]
     },
     "execution_count": 9,
     "metadata": {},
     "output_type": "execute_result"
    }
   ],
   "source": [
    "data = readdlm(\"data/dataset_3010_2.txt\")[1]\n",
    "pattern_to_number(data)"
   ]
  },
  {
   "cell_type": "markdown",
   "metadata": {},
   "source": [
    "* **Input**: Integers `index` and $k$.\n",
    "* **Output**: The DNA $k$-mer corresponding to `index`."
   ]
  },
  {
   "cell_type": "code",
   "execution_count": 10,
   "metadata": {
    "collapsed": false
   },
   "outputs": [
    {
     "data": {
      "text/plain": [
       "number_to_pattern (generic function with 1 method)"
      ]
     },
     "execution_count": 10,
     "metadata": {},
     "output_type": "execute_result"
    }
   ],
   "source": [
    "function number_to_pattern(index, k)\n",
    "    if k == 1\n",
    "        return number_to_symbol(index)\n",
    "    else\n",
    "        prefixIndex = div(index, 4)\n",
    "        r = rem(index, 4)\n",
    "        symbol = number_to_symbol(r)\n",
    "        prefixPattern = number_to_pattern(prefixIndex, k-1)\n",
    "        return string(prefixPattern, symbol)\n",
    "    end\n",
    "end"
   ]
  },
  {
   "cell_type": "markdown",
   "metadata": {},
   "source": [
    "* **Input**: An integer $k$.\n",
    "* **Output**: The DNA nucleotide corresponding to $k$."
   ]
  },
  {
   "cell_type": "code",
   "execution_count": 11,
   "metadata": {
    "collapsed": false
   },
   "outputs": [
    {
     "data": {
      "text/plain": [
       "number_to_symbol (generic function with 1 method)"
      ]
     },
     "execution_count": 11,
     "metadata": {},
     "output_type": "execute_result"
    }
   ],
   "source": [
    "function number_to_symbol(k)\n",
    "    dict = Dict(0 => 'A', 1 => 'C', 2 => 'G', 3 => 'T')\n",
    "    return dict[k]\n",
    "end"
   ]
  },
  {
   "cell_type": "code",
   "execution_count": 12,
   "metadata": {
    "collapsed": false
   },
   "outputs": [
    {
     "data": {
      "text/plain": [
       "\"AAACCGTCTT\""
      ]
     },
     "execution_count": 12,
     "metadata": {},
     "output_type": "execute_result"
    }
   ],
   "source": [
    "data = readdlm(\"data/dataset_3010_4.txt\")\n",
    "number_to_pattern(data[1], data[2])"
   ]
  },
  {
   "cell_type": "markdown",
   "metadata": {},
   "source": [
    "## Charging Station - The Frequency Array\n",
    "* **Input**: A DNA string `text` and an integer $k$ representing the length of the patterns in `text`.\n",
    "* **Output**: The [frequency array](https://stepic.org/s/r436d31P)."
   ]
  },
  {
   "cell_type": "code",
   "execution_count": 13,
   "metadata": {
    "collapsed": false
   },
   "outputs": [
    {
     "data": {
      "text/plain": [
       "computing_frequencies (generic function with 1 method)"
      ]
     },
     "execution_count": 13,
     "metadata": {},
     "output_type": "execute_result"
    }
   ],
   "source": [
    "function computing_frequencies(text, k)\n",
    "    frequencyArray = Array{Int64}(4^k)\n",
    "    for i = 1:4^k\n",
    "        frequencyArray[i] = 0\n",
    "    end\n",
    "    for i = 1:(length(text) - k + 1)\n",
    "        pattern = text[i:(i+k-1)]\n",
    "        j = pattern_to_number(pattern)\n",
    "        frequencyArray[j+1] = frequencyArray[j+1] + 1\n",
    "    end\n",
    "    return frequencyArray\n",
    "end"
   ]
  },
  {
   "cell_type": "code",
   "execution_count": 15,
   "metadata": {
    "collapsed": false
   },
   "outputs": [],
   "source": [
    "data = readdlm(\"data/dataset_2994_5.txt\")\n",
    "output = computing_frequencies(data[1], Int(data[2]))\n",
    "writedlm(\"data/output.txt\", output)"
   ]
  },
  {
   "cell_type": "markdown",
   "metadata": {},
   "source": [
    "* **Input**: A string `text` and an integer $k$.\n",
    "* **Output**: All of the most frequent $k$-mers in `text`."
   ]
  },
  {
   "cell_type": "code",
   "execution_count": 16,
   "metadata": {
    "collapsed": false
   },
   "outputs": [
    {
     "data": {
      "text/plain": [
       "faster_frequent_words (generic function with 1 method)"
      ]
     },
     "execution_count": 16,
     "metadata": {},
     "output_type": "execute_result"
    }
   ],
   "source": [
    "function faster_frequent_words(text, k)\n",
    "    frequentPatterns = Set()\n",
    "    frequencyArray = computing_frequencies(text, k)\n",
    "    maxCount = maximum(frequencyArray)\n",
    "    for i = 1:4^k\n",
    "        if frequencyArray[i] == maxCount\n",
    "            pattern = number_to_pattern(i-1, k)\n",
    "            push!(frequentPatterns, pattern)\n",
    "        end\n",
    "    end\n",
    "    return frequentPatterns\n",
    "end"
   ]
  },
  {
   "cell_type": "markdown",
   "metadata": {},
   "source": [
    "## Application\n",
    "Now we can finally use `faster_frequent_words` to find common $k$-mers in oriC. Maybe one of these is the *DnaA* Box."
   ]
  },
  {
   "cell_type": "code",
   "execution_count": 17,
   "metadata": {
    "collapsed": false
   },
   "outputs": [
    {
     "data": {
      "text/plain": [
       "Set(Any[\"CTCTTGATC\",\"TCTTGATCA\",\"ATGATCAAG\",\"CTTGATCAT\"])"
      ]
     },
     "execution_count": 17,
     "metadata": {},
     "output_type": "execute_result"
    }
   ],
   "source": [
    "oriC = readdlm(\"data/oriC.txt\")[1]\n",
    "faster_frequent_words(oriC, 9)"
   ]
  },
  {
   "cell_type": "markdown",
   "metadata": {},
   "source": [
    "##Code Challenge (1.3 - Step 2)\n",
    "* **Input**: A DNA string, $\\text{pattern}$.\n",
    "* **Output**: $\\overline{\\text{pattern}}$, the reverse complement of $\\text{pattern}$."
   ]
  },
  {
   "cell_type": "code",
   "execution_count": 18,
   "metadata": {
    "collapsed": false
   },
   "outputs": [
    {
     "data": {
      "text/plain": [
       "reverse_complement (generic function with 1 method)"
      ]
     },
     "execution_count": 18,
     "metadata": {},
     "output_type": "execute_result"
    }
   ],
   "source": [
    "function reverse_complement(pattern)\n",
    "    dict = Dict('A' => 'T', 'T' => 'A', 'C' => 'G', 'G' => 'C')\n",
    "    if length(pattern) == 1\n",
    "        return dict[pattern[1]]\n",
    "    else\n",
    "        prefix = pattern[1:end-1]\n",
    "        lastSymbol = last(pattern)\n",
    "        return string(dict[lastSymbol], reverse_complement(prefix))\n",
    "    end\n",
    "end"
   ]
  },
  {
   "cell_type": "code",
   "execution_count": 19,
   "metadata": {
    "collapsed": false
   },
   "outputs": [],
   "source": [
    "# long output; uncomment to view\n",
    "# data = readdlm(\"data/dataset_3_2.txt\")[1]\n",
    "# reverse_complement(data)"
   ]
  },
  {
   "cell_type": "markdown",
   "metadata": {},
   "source": [
    "## Code Challenge (1.3 - Step 5)\n",
    "* **Input**: Two strings, `pattern` and `genome`.\n",
    "* **Output**: A collection of integers specifying all starting positions where `pattern` appears as a substring of `genome` (0-indexed)."
   ]
  },
  {
   "cell_type": "code",
   "execution_count": 20,
   "metadata": {
    "collapsed": false
   },
   "outputs": [
    {
     "data": {
      "text/plain": [
       "pattern_match (generic function with 1 method)"
      ]
     },
     "execution_count": 20,
     "metadata": {},
     "output_type": "execute_result"
    }
   ],
   "source": [
    "function pattern_match(pattern, genome)\n",
    "    positions = []\n",
    "    for i = 1:(length(genome) - length(pattern) + 1)\n",
    "        if genome[i:i+length(pattern)-1] == pattern\n",
    "            push!(positions, i-1)\n",
    "        end\n",
    "    end\n",
    "    return positions\n",
    "end"
   ]
  },
  {
   "cell_type": "code",
   "execution_count": 21,
   "metadata": {
    "collapsed": false
   },
   "outputs": [],
   "source": [
    "data = readdlm(\"data/dataset_3_5.txt\")\n",
    "output = pattern_match(data[1], data[2])\n",
    "writedlm(\"data/output_3_5.txt\", output)"
   ]
  },
  {
   "cell_type": "markdown",
   "metadata": {},
   "source": [
    "## Application\n",
    "Let's try running `pattern_match` on the *Vibrio cholerae* genome. Specifically, we'll be looking for instances of the 9-mer \"CTTGATCAT\" that we found earlier."
   ]
  },
  {
   "cell_type": "code",
   "execution_count": 22,
   "metadata": {
    "collapsed": false
   },
   "outputs": [],
   "source": [
    "output = pattern_match(\"CTTGATCAT\", genome)\n",
    "writedlm(\"data/output_Vcholerae.txt\", output)"
   ]
  },
  {
   "cell_type": "markdown",
   "metadata": {},
   "source": [
    "## Code Challenge (1.4 - Step 5)\n",
    "* **Input**: A string `genome`, and integers $k$, $L$, and $t$.\n",
    "* **Output**: All distinct $k$-mers forming $(L,t)$-clumps in `genome`."
   ]
  },
  {
   "cell_type": "code",
   "execution_count": 23,
   "metadata": {
    "collapsed": false
   },
   "outputs": [
    {
     "data": {
      "text/plain": [
       "find_clumps (generic function with 1 method)"
      ]
     },
     "execution_count": 23,
     "metadata": {},
     "output_type": "execute_result"
    }
   ],
   "source": [
    "function find_clumps(genome, k, L, t)\n",
    "    frequentPatterns = Set()\n",
    "    clump = Array{Int64}(4^k)\n",
    "    for i = 1:4^k\n",
    "        clump[i] = 0\n",
    "    end\n",
    "    text = genome[1:L]\n",
    "    frequencyArray = computing_frequencies(text, k)\n",
    "    for i = 1:4^k\n",
    "        if frequencyArray[i] >= t\n",
    "            clump[i] = 1\n",
    "        end   \n",
    "    end\n",
    "    for i = 2:(length(genome) - L + 1)\n",
    "        firstPattern = genome[i-1:i-1+k-1]\n",
    "        index = pattern_to_number(firstPattern)\n",
    "        frequencyArray[index+1] = frequencyArray[index+1] - 1\n",
    "        lastPattern = genome[i+L-k:i+L-1]\n",
    "        index = pattern_to_number(lastPattern)\n",
    "        frequencyArray[index+1] = frequencyArray[index+1] + 1\n",
    "        if frequencyArray[index+1] >= t\n",
    "            clump[index+1] = 1\n",
    "        end\n",
    "    end\n",
    "    for i = 1:4^k\n",
    "        if clump[i] == 1\n",
    "            pattern = number_to_pattern(i-1, k)\n",
    "            push!(frequentPatterns, pattern)\n",
    "        end\n",
    "    end\n",
    "    return frequentPatterns\n",
    "end"
   ]
  },
  {
   "cell_type": "code",
   "execution_count": 24,
   "metadata": {
    "collapsed": false
   },
   "outputs": [
    {
     "data": {
      "text/plain": [
       "Set(Any[\"AGAACTCCA\",\"ACGAAGAGC\",\"AGGGACTGG\",\"CAGATGCGG\",\"CAGAATGAG\",\"GAGGGACTG\",\"ATAGTGCGA\",\"GTCCCACGC\",\"GGAGGGACT\",\"AGTGTGCTT\",\"TTCGGTAGT\"])"
      ]
     },
     "execution_count": 24,
     "metadata": {},
     "output_type": "execute_result"
    }
   ],
   "source": [
    "data = readdlm(\"data/dataset_4_5.txt\")\n",
    "find_clumps(data[1], data[2], data[4], data[6])"
   ]
  },
  {
   "cell_type": "markdown",
   "metadata": {},
   "source": [
    "## Application\n",
    "Let's try using `find_clumps` to find 9-mers that form (500,3)-clumps in the *E. coli* genome. We print the number of different 9-mers."
   ]
  },
  {
   "cell_type": "code",
   "execution_count": 84,
   "metadata": {
    "collapsed": false
   },
   "outputs": [
    {
     "data": {
      "text/plain": [
       "1904"
      ]
     },
     "execution_count": 84,
     "metadata": {},
     "output_type": "execute_result"
    }
   ],
   "source": [
    "data = readdlm(\"data/E-coli.txt\")[1]\n",
    "length(find_clumps(data, 9, 500, 3))"
   ]
  },
  {
   "cell_type": "markdown",
   "metadata": {},
   "source": [
    "## Code Challenge (2.3 - Step 6)\n",
    "* **Input**: A DNA string `genome`.\n",
    "* **Output**: All integer(s) $i$ minimizing $\\text{skew}_i($ `genome` $)$ among all values of $i$."
   ]
  },
  {
   "cell_type": "code",
   "execution_count": 1,
   "metadata": {
    "collapsed": false
   },
   "outputs": [
    {
     "data": {
      "text/plain": [
       "min_skew (generic function with 1 method)"
      ]
     },
     "execution_count": 1,
     "metadata": {},
     "output_type": "execute_result"
    }
   ],
   "source": [
    "function min_skew(genome)\n",
    "    skew = gc_skew(genome)\n",
    "    minSkew = minimum(skew)\n",
    "    indices = Set()\n",
    "    for i = 1:length(skew)\n",
    "        if skew[i] == minSkew\n",
    "            push!(indices, i-1)\n",
    "        end\n",
    "    end\n",
    "    return indices\n",
    "end"
   ]
  },
  {
   "cell_type": "code",
   "execution_count": 2,
   "metadata": {
    "collapsed": false
   },
   "outputs": [
    {
     "data": {
      "text/plain": [
       "gc_skew (generic function with 1 method)"
      ]
     },
     "execution_count": 2,
     "metadata": {},
     "output_type": "execute_result"
    }
   ],
   "source": [
    "function gc_skew(genome)\n",
    "    skew = Array{Int64}(length(genome) + 1)\n",
    "    skew[1] = 0\n",
    "    for i = 1:length(genome)\n",
    "        if genome[i] == 'C'\n",
    "            skew[i+1] = skew[i] - 1\n",
    "        elseif genome[i] == 'G'\n",
    "            skew[i+1] = skew[i] + 1\n",
    "        else\n",
    "            skew[i+1] = skew[i]\n",
    "        end\n",
    "    end\n",
    "    return skew\n",
    "end"
   ]
  },
  {
   "cell_type": "code",
   "execution_count": 34,
   "metadata": {
    "collapsed": false
   },
   "outputs": [
    {
     "data": {
      "text/plain": [
       "Set(Any[63,62,56])"
      ]
     },
     "execution_count": 34,
     "metadata": {},
     "output_type": "execute_result"
    }
   ],
   "source": [
    "data = readdlm(\"data/dataset_7_6.txt\")[1]\n",
    "min_skew(data)"
   ]
  },
  {
   "cell_type": "markdown",
   "metadata": {},
   "source": [
    "## Visualizing Skew"
   ]
  },
  {
   "cell_type": "code",
   "execution_count": 3,
   "metadata": {
    "collapsed": false
   },
   "outputs": [],
   "source": [
    "using Gadfly;"
   ]
  },
  {
   "cell_type": "code",
   "execution_count": null,
   "metadata": {
    "collapsed": false
   },
   "outputs": [],
   "source": [
    "genome = readdlm(\"data/E-coli.txt\")[1]\n",
    "position = 0:length(genome)\n",
    "skew = gc_skew(genome)\n",
    "# plotting 4M data points => slow\n",
    "# uncomment to view\n",
    "# plot(x=position, y=skew, Geom.line)"
   ]
  },
  {
   "cell_type": "markdown",
   "metadata": {},
   "source": [
    "## Code Challenge (2.4 - Step 3)\n",
    "* **Input**: Two strings of equal length, `string1` and `string2`.\n",
    "* **Output**: The Hamming distance between `string1` and `string2`."
   ]
  },
  {
   "cell_type": "code",
   "execution_count": 13,
   "metadata": {
    "collapsed": false
   },
   "outputs": [
    {
     "data": {
      "text/plain": [
       "hamming (generic function with 1 method)"
      ]
     },
     "execution_count": 13,
     "metadata": {},
     "output_type": "execute_result"
    }
   ],
   "source": [
    "function hamming(string1, string2)\n",
    "    distance = 0\n",
    "    for i = 1:length(string1)\n",
    "        if string1[i] != string2[i]\n",
    "            distance += 1\n",
    "        end\n",
    "    end\n",
    "    return distance\n",
    "end"
   ]
  },
  {
   "cell_type": "code",
   "execution_count": 15,
   "metadata": {
    "collapsed": false
   },
   "outputs": [
    {
     "data": {
      "text/plain": [
       "785"
      ]
     },
     "execution_count": 15,
     "metadata": {},
     "output_type": "execute_result"
    }
   ],
   "source": [
    "data = readdlm(\"data/dataset_9_3.txt\")\n",
    "hamming(data[1], data[2])"
   ]
  },
  {
   "cell_type": "markdown",
   "metadata": {},
   "source": [
    "## Code Challenge (2.4 - Step 4)\n",
    "**Approximate Pattern Matching Problem**: *Find all approximate occurrences of a pattern in a string.*\n",
    "* **Input**: Strings `pattern` and `text` along with an integer $d$.\n",
    "* **output**: All starting positions where `pattern` appears as a substring of `text` with at most $d$ mismatches."
   ]
  },
  {
   "cell_type": "code",
   "execution_count": 23,
   "metadata": {
    "collapsed": false
   },
   "outputs": [
    {
     "data": {
      "text/plain": [
       "approx_pattern_match (generic function with 1 method)"
      ]
     },
     "execution_count": 23,
     "metadata": {},
     "output_type": "execute_result"
    }
   ],
   "source": [
    "function approx_pattern_match(pattern, text, d)\n",
    "    indices = Set()\n",
    "    for i = 1:(length(text) - length(pattern) + 1)\n",
    "        otherPattern = text[i:(i + length(pattern) - 1)]\n",
    "        if hamming(pattern, otherPattern) <= d\n",
    "            push!(indices, i-1)\n",
    "        end\n",
    "    end\n",
    "    return indices\n",
    "end"
   ]
  },
  {
   "cell_type": "code",
   "execution_count": 25,
   "metadata": {
    "collapsed": false
   },
   "outputs": [],
   "source": [
    "data = readdlm(\"data/dataset_9_4.txt\")\n",
    "output = approx_pattern_match(data[1], data[2], data[3])\n",
    "writedlm(\"data/output_9_4.txt\", output)"
   ]
  },
  {
   "cell_type": "markdown",
   "metadata": {},
   "source": [
    "## Code Challenge (2.4 - Step 6)\n",
    "* **Input**: Strings `pattern` and `text` as well as an integer $d$.\n",
    "* **Output**: $\\text{count}_d($ `text`, `pattern` $)$."
   ]
  },
  {
   "cell_type": "code",
   "execution_count": 31,
   "metadata": {
    "collapsed": false
   },
   "outputs": [
    {
     "data": {
      "text/plain": [
       "approx_pattern_count (generic function with 1 method)"
      ]
     },
     "execution_count": 31,
     "metadata": {},
     "output_type": "execute_result"
    }
   ],
   "source": [
    "function approx_pattern_count(pattern, text, d)\n",
    "    count = 0\n",
    "    for i = 1:(length(text) - length(pattern) + 1)\n",
    "        otherPattern = text[i:(i + length(pattern) - 1)]\n",
    "        if hamming(pattern, otherPattern) <= d\n",
    "            count += 1\n",
    "        end\n",
    "    end\n",
    "    return count\n",
    "end"
   ]
  },
  {
   "cell_type": "code",
   "execution_count": 33,
   "metadata": {
    "collapsed": false
   },
   "outputs": [
    {
     "data": {
      "text/plain": [
       "67"
      ]
     },
     "execution_count": 33,
     "metadata": {},
     "output_type": "execute_result"
    }
   ],
   "source": [
    "data = readdlm(\"data/dataset_9_6.txt\")\n",
    "approx_pattern_count(data[1], data[2], data[3])"
   ]
  },
  {
   "cell_type": "markdown",
   "metadata": {},
   "source": [
    "## Charging Station - Neighborhood of a String\n",
    "* **Input**: A string `pattern` and an integer $d$.\n",
    "* **Output**: The collection of strings that differ from `pattern` by no more than $d$ characters."
   ]
  },
  {
   "cell_type": "code",
   "execution_count": 47,
   "metadata": {
    "collapsed": false
   },
   "outputs": [
    {
     "data": {
      "text/plain": [
       "neighbors (generic function with 1 method)"
      ]
     },
     "execution_count": 47,
     "metadata": {},
     "output_type": "execute_result"
    }
   ],
   "source": [
    "function neighbors(pattern, d)\n",
    "    if d == 0\n",
    "        return Set([pattern])\n",
    "    end\n",
    "    if length(pattern) == 1\n",
    "        return Set(['A', 'C', 'G', 'T'])\n",
    "    end\n",
    "    neighborhood = Set{ASCIIString}()\n",
    "    suffixNeighbors = neighbors(pattern[2:end], d)\n",
    "    for text = suffixNeighbors\n",
    "        if hamming(pattern[2:end], text) < d\n",
    "            for x = Set(['A', 'C', 'G', 'T'])\n",
    "                push!(neighborhood, string(x, text))\n",
    "            end\n",
    "        elseif hamming(pattern[2:end], text) == d\n",
    "            push!(neighborhood, string(first(pattern), text))\n",
    "        end\n",
    "    end\n",
    "    return collect(neighborhood)\n",
    "end\n",
    "            "
   ]
  },
  {
   "cell_type": "code",
   "execution_count": 49,
   "metadata": {
    "collapsed": false
   },
   "outputs": [],
   "source": [
    "data = readdlm(\"data/dataset_3014_3.txt\")\n",
    "output = neighbors(data[1], data[2])\n",
    "writedlm(\"data/output_3014_3.txt\", output)"
   ]
  },
  {
   "cell_type": "markdown",
   "metadata": {},
   "source": [
    "## Code Challenge (2.4 - Step 7)\n",
    "**Frequent Words with Mismatches Problem**: *Find the most frequent $k$-mers with mismatches in a string.*\n",
    "* **Input**: A string `text` as well as integers $k$ and $d$.\n",
    "* **Output**: All most frequent $k$-mers with up to $d$ mismatches in `text`."
   ]
  },
  {
   "cell_type": "code",
   "execution_count": 90,
   "metadata": {
    "collapsed": false
   },
   "outputs": [
    {
     "data": {
      "text/plain": [
       "frequent_words_with_mismatches (generic function with 1 method)"
      ]
     },
     "execution_count": 90,
     "metadata": {},
     "output_type": "execute_result"
    }
   ],
   "source": [
    "function frequent_words_with_mismatches(text, k, d)\n",
    "    frequentPatterns = Set()\n",
    "    closeArray = Array{Bool}(4^k)\n",
    "    frequencyArray = Array{Int64}(4^k)\n",
    "    for i = 1:4^k\n",
    "        closeArray[i] = false\n",
    "        frequencyArray[i] = 0\n",
    "    end\n",
    "    for i = 1:(length(text) - k + 1)\n",
    "        neighborhood = neighbors(text[i:i+k-1], d)\n",
    "        for pattern = neighborhood\n",
    "            index = pattern_to_number(pattern)\n",
    "            closeArray[index+1] = true\n",
    "        end\n",
    "    end\n",
    "    for i = 1:4^k\n",
    "        if closeArray[i]\n",
    "            pattern = number_to_pattern(i-1, k)\n",
    "            frequencyArray[i] = approx_pattern_count(pattern, text, d)\n",
    "        end\n",
    "    end\n",
    "    maxCount = maximum(frequencyArray)\n",
    "    for i = 1:4^k\n",
    "        if frequencyArray[i] == maxCount\n",
    "            pattern = number_to_pattern(i-1, k)\n",
    "            push!(frequentPatterns, pattern)\n",
    "        end\n",
    "    end\n",
    "    return frequentPatterns\n",
    "end"
   ]
  },
  {
   "cell_type": "code",
   "execution_count": 91,
   "metadata": {
    "collapsed": false
   },
   "outputs": [],
   "source": [
    "data = readdlm(\"data/dataset_9_7.txt\")\n",
    "output = frequent_words_with_mismatches(data[1], data[2], data[4])\n",
    "writedlm(\"data/output_9_7.txt\", output)"
   ]
  },
  {
   "cell_type": "markdown",
   "metadata": {},
   "source": [
    "## Code Challenge (2.4 - Step 8)\n",
    "**Frequent Words with Mismatches and Reverse Complements Problem**: *Find the most frequent $k$-mers (with mismatches and reverse complements) in a string.*\n",
    "* **Input**: A DNA string `text` as well as integers $k$ and $d$.\n",
    "* **Output**: All $k$-mers $\\texttt{pattern}$ maximizing the sum $\\text{count}_d(\\texttt{text}, \\texttt{pattern}) + \\text{count}_d(\\texttt{text}, \\overline{\\texttt{pattern}})$ over all possible $k$-mers."
   ]
  },
  {
   "cell_type": "code",
   "execution_count": 93,
   "metadata": {
    "collapsed": false
   },
   "outputs": [
    {
     "data": {
      "text/plain": [
       "frequent_words_with_mismatches_complete (generic function with 1 method)"
      ]
     },
     "execution_count": 93,
     "metadata": {},
     "output_type": "execute_result"
    }
   ],
   "source": [
    "function frequent_words_with_mismatches_complete(text, k, d)\n",
    "    frequentPatterns = Set()\n",
    "    closeArray = Array{Bool}(4^k)\n",
    "    frequencyArray = Array{Int64}(4^k)\n",
    "    for i = 1:4^k\n",
    "        closeArray[i] = false\n",
    "        frequencyArray[i] = 0\n",
    "    end\n",
    "    for i = 1:(length(text) - k + 1)\n",
    "        neighborhood = neighbors(text[i:i+k-1], d)\n",
    "        for pattern = neighborhood\n",
    "            index = pattern_to_number(pattern)\n",
    "            closeArray[index+1] = true\n",
    "        end\n",
    "    end\n",
    "    for i = 1:4^k\n",
    "        if closeArray[i]\n",
    "            pattern = number_to_pattern(i-1, k)\n",
    "            frequencyArray[i] = approx_pattern_count(pattern, text, d) + \n",
    "                approx_pattern_count(reverse_complement(pattern), text, d)\n",
    "        end\n",
    "    end\n",
    "    maxCount = maximum(frequencyArray)\n",
    "    for i = 1:4^k\n",
    "        if frequencyArray[i] == maxCount\n",
    "            pattern = number_to_pattern(i-1, k)\n",
    "            push!(frequentPatterns, pattern)\n",
    "        end\n",
    "    end\n",
    "    return frequentPatterns\n",
    "end"
   ]
  },
  {
   "cell_type": "code",
   "execution_count": 99,
   "metadata": {
    "collapsed": false
   },
   "outputs": [
    {
     "data": {
      "text/plain": [
       "Set(Any[\"TACTAGT\",\"ACTAGTA\"])"
      ]
     },
     "execution_count": 99,
     "metadata": {},
     "output_type": "execute_result"
    }
   ],
   "source": [
    "data = readdlm(\"data/dataset_9_8.txt\")\n",
    "frequent_words_with_mismatches_complete(data[1], data[2], data[4])"
   ]
  }
 ],
 "metadata": {
  "kernelspec": {
   "display_name": "Julia 0.4.5",
   "language": "julia",
   "name": "julia-0.4"
  },
  "language_info": {
   "file_extension": ".jl",
   "mimetype": "application/julia",
   "name": "julia",
   "version": "0.4.5"
  }
 },
 "nbformat": 4,
 "nbformat_minor": 0
}
