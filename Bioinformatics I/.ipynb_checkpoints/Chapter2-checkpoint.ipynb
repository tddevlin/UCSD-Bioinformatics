{
 "cells": [
  {
   "cell_type": "markdown",
   "metadata": {},
   "source": [
    "#Which DNA Patterns Play the Role of Molecular Clocks?"
   ]
  },
  {
   "cell_type": "markdown",
   "metadata": {
    "collapsed": true
   },
   "source": [
    "##Code Challenge (1.2 - Step 7)\n",
    "**Implanted Motif Problem:** *Find all ($k$,$d$)-motifs in a collection of strings.*\n",
    "* **Input:** A collection of strings `Dna` and integers $k$ and $d$.\n",
    "* **Output:** All ($k$,$d$)-motifs in `Dna`."
   ]
  },
  {
   "cell_type": "code",
   "execution_count": 1,
   "metadata": {
    "collapsed": false
   },
   "outputs": [
    {
     "data": {
      "text/plain": [
       "motif_enumeration (generic function with 1 method)"
      ]
     },
     "execution_count": 1,
     "metadata": {},
     "output_type": "execute_result"
    }
   ],
   "source": [
    "function motif_enumeration(Dna, k, d)\n",
    "    patterns = Set()\n",
    "    for string = Dna\n",
    "        for i = 1:length(string)-k+1\n",
    "            pattern0 = string[i:i+k-1]\n",
    "            theNeighbors = neighbors(pattern0, d)\n",
    "            for pattern1 = theNeighbors\n",
    "                inAll = true\n",
    "                for string1 = Dna\n",
    "                    inString = false\n",
    "                    for j = 1:length(string1)-k+1\n",
    "                        pattern2 = string1[j:j+k-1]\n",
    "                        if hamming(pattern1, pattern2) <= d\n",
    "                            inString = true\n",
    "                        end\n",
    "                    end\n",
    "                    if !inString\n",
    "                        inAll = false\n",
    "                    end\n",
    "                end\n",
    "                if inAll\n",
    "                    push!(patterns, pattern1)\n",
    "                end\n",
    "            end\n",
    "        end\n",
    "    end\n",
    "    return patterns\n",
    "end"
   ]
  },
  {
   "cell_type": "code",
   "execution_count": 2,
   "metadata": {
    "collapsed": false
   },
   "outputs": [
    {
     "data": {
      "text/plain": [
       "neighbors (generic function with 1 method)"
      ]
     },
     "execution_count": 2,
     "metadata": {},
     "output_type": "execute_result"
    }
   ],
   "source": [
    "function neighbors(pattern, d)\n",
    "    if d == 0\n",
    "        return Set([pattern])\n",
    "    end\n",
    "    if length(pattern) == 1\n",
    "        return Set(['A', 'C', 'G', 'T'])\n",
    "    end\n",
    "    neighborhood = Set{ASCIIString}()\n",
    "    suffixNeighbors = neighbors(pattern[2:end], d)\n",
    "    for text = suffixNeighbors\n",
    "        if hamming(pattern[2:end], text) < d\n",
    "            for x = Set(['A', 'C', 'G', 'T'])\n",
    "                push!(neighborhood, string(x, text))\n",
    "            end\n",
    "        elseif hamming(pattern[2:end], text) == d\n",
    "            push!(neighborhood, string(first(pattern), text))\n",
    "        end\n",
    "    end\n",
    "    return collect(neighborhood)\n",
    "end"
   ]
  },
  {
   "cell_type": "code",
   "execution_count": 3,
   "metadata": {
    "collapsed": false
   },
   "outputs": [
    {
     "data": {
      "text/plain": [
       "hamming (generic function with 1 method)"
      ]
     },
     "execution_count": 3,
     "metadata": {},
     "output_type": "execute_result"
    }
   ],
   "source": [
    "function hamming(string1, string2)\n",
    "    distance = 0\n",
    "    for i = 1:length(string1)\n",
    "        if string1[i] != string2[i]\n",
    "            distance += 1\n",
    "        end\n",
    "    end\n",
    "    return distance\n",
    "end"
   ]
  },
  {
   "cell_type": "code",
   "execution_count": 4,
   "metadata": {
    "collapsed": false
   },
   "outputs": [
    {
     "data": {
      "text/plain": [
       "Set(Any[\"ATT\",\"TTT\",\"ATA\",\"GTT\"])"
      ]
     },
     "execution_count": 4,
     "metadata": {},
     "output_type": "execute_result"
    }
   ],
   "source": [
    "Dna = [\"ATTTGGC\",\"TGCCTTA\",\"CGGTATC\",\"GAAAATT\"]\n",
    "k = 3\n",
    "D = 1\n",
    "motif_enumeration(Dna, k, D)"
   ]
  },
  {
   "cell_type": "code",
   "execution_count": 5,
   "metadata": {
    "collapsed": false
   },
   "outputs": [],
   "source": [
    "data = readdlm(\"data/dataset_156_7.txt\")\n",
    "k = data[1,1]\n",
    "D = data[1,2]\n",
    "Dna = data[2:end,1]\n",
    "output = motif_enumeration(Dna, k, D)\n",
    "writedlm(\"data/output_156_7.txt\", output)"
   ]
  },
  {
   "cell_type": "markdown",
   "metadata": {
    "collapsed": false
   },
   "source": [
    "##Code Challenge (1.4 - Step 9)\n",
    "**Median String Problem:** *Find a median string.*\n",
    "* **Input:** An integer $k$, followed by a collection of strings `Dna`.\n",
    "* **Output:** A $k$-mer `pattern` that minimizes $d$(`pattern`, `Dna`) among all $k$-mers `pattern`."
   ]
  },
  {
   "cell_type": "code",
   "execution_count": 6,
   "metadata": {
    "collapsed": false
   },
   "outputs": [
    {
     "data": {
      "text/plain": [
       "median_string (generic function with 1 method)"
      ]
     },
     "execution_count": 6,
     "metadata": {},
     "output_type": "execute_result"
    }
   ],
   "source": [
    "function median_string(Dna, k)\n",
    "    distance = Inf\n",
    "    median = \"\"\n",
    "    for i = 1:4^k\n",
    "        pattern = number_to_pattern(i-1, k)\n",
    "        newDist = d(pattern, Dna)\n",
    "        if newDist < distance\n",
    "            distance = newDist\n",
    "            median = pattern\n",
    "        end\n",
    "    end\n",
    "    return median\n",
    "end"
   ]
  },
  {
   "cell_type": "code",
   "execution_count": 7,
   "metadata": {
    "collapsed": false
   },
   "outputs": [
    {
     "ename": "LoadError",
     "evalue": "LoadError: cannot define function d; it already has a value\nwhile loading In[7], in expression starting on line 1",
     "output_type": "error",
     "traceback": [
      "LoadError: cannot define function d; it already has a value\nwhile loading In[7], in expression starting on line 1",
      ""
     ]
    }
   ],
   "source": [
    "function d{T<:AbstractString}(pattern, text::T)\n",
    "    k = length(pattern)\n",
    "    distance = Inf\n",
    "    for i = 1:length(text)-k+1\n",
    "        kmer = text[i:i+k-1]\n",
    "        newDist = hamming(kmer, pattern)\n",
    "        if newDist < distance\n",
    "            distance = newDist\n",
    "        end\n",
    "    end\n",
    "    return distance\n",
    "end"
   ]
  },
  {
   "cell_type": "code",
   "execution_count": 8,
   "metadata": {
    "collapsed": false
   },
   "outputs": [
    {
     "ename": "LoadError",
     "evalue": "LoadError: cannot define function d; it already has a value\nwhile loading In[8], in expression starting on line 1",
     "output_type": "error",
     "traceback": [
      "LoadError: cannot define function d; it already has a value\nwhile loading In[8], in expression starting on line 1",
      ""
     ]
    }
   ],
   "source": [
    "function d{T<:AbstractString}(pattern, Dna::Array{T,1})\n",
    "    t = length(Dna)\n",
    "    totalDist = 0\n",
    "    for i = 1:t\n",
    "        totalDist += d(pattern, Dna[i])\n",
    "    end\n",
    "    return totalDist\n",
    "end"
   ]
  },
  {
   "cell_type": "code",
   "execution_count": 9,
   "metadata": {
    "collapsed": false
   },
   "outputs": [
    {
     "data": {
      "text/plain": [
       "number_to_pattern (generic function with 1 method)"
      ]
     },
     "execution_count": 9,
     "metadata": {},
     "output_type": "execute_result"
    }
   ],
   "source": [
    "function number_to_pattern(index, k)\n",
    "    if k == 1\n",
    "        return number_to_symbol(index)\n",
    "    else\n",
    "        prefixIndex = div(index, 4)\n",
    "        r = rem(index, 4)\n",
    "        symbol = number_to_symbol(r)\n",
    "        prefixPattern = number_to_pattern(prefixIndex, k-1)\n",
    "        return string(prefixPattern, symbol)\n",
    "    end\n",
    "end"
   ]
  },
  {
   "cell_type": "code",
   "execution_count": 10,
   "metadata": {
    "collapsed": false
   },
   "outputs": [
    {
     "data": {
      "text/plain": [
       "number_to_symbol (generic function with 1 method)"
      ]
     },
     "execution_count": 10,
     "metadata": {},
     "output_type": "execute_result"
    }
   ],
   "source": [
    "function number_to_symbol(k)\n",
    "    dict = Dict(0 => 'A', 1 => 'C', 2 => 'G', 3 => 'T')\n",
    "    return dict[k]\n",
    "end"
   ]
  },
  {
   "cell_type": "code",
   "execution_count": 11,
   "metadata": {
    "collapsed": false
   },
   "outputs": [
    {
     "ename": "LoadError",
     "evalue": "LoadError: MethodError: `call` has no method matching call(::Int64, ::UTF8String, ::Array{ASCIIString,1})\nClosest candidates are:\n  BoundsError(!Matched::Any...)\n  TypeVar(!Matched::Any...)\n  TypeConstructor(!Matched::Any...)\n  ...\nwhile loading In[11], in expression starting on line 5",
     "output_type": "error",
     "traceback": [
      "LoadError: MethodError: `call` has no method matching call(::Int64, ::UTF8String, ::Array{ASCIIString,1})\nClosest candidates are:\n  BoundsError(!Matched::Any...)\n  TypeVar(!Matched::Any...)\n  TypeConstructor(!Matched::Any...)\n  ...\nwhile loading In[11], in expression starting on line 5",
      "",
      " in median_string at In[6]:6"
     ]
    }
   ],
   "source": [
    "f = open(\"data/dataset_158_9.txt\")\n",
    "k = parse(strip(readline(f)))\n",
    "Dna = convert(Array{ASCIIString}, readdlm(f)[:,1])\n",
    "close(f)\n",
    "median_string(Dna, k)"
   ]
  },
  {
   "cell_type": "markdown",
   "metadata": {},
   "source": [
    "##Code Challenge (1.5 - Step 3)\n",
    "***Profile*-most probable $k$-mer problem:** *Find a Profile-most probable $k$-mer in a string.*\n",
    "* **Input:** A string `text`, and integer $k$, and a $4 \\times k$ matrix `profile`.\n",
    "* **Output:** A `profile`-most probable $k$-mer in `text`."
   ]
  },
  {
   "cell_type": "code",
   "execution_count": 12,
   "metadata": {
    "collapsed": false
   },
   "outputs": [
    {
     "data": {
      "text/plain": [
       "most_probable_kmer (generic function with 1 method)"
      ]
     },
     "execution_count": 12,
     "metadata": {},
     "output_type": "execute_result"
    }
   ],
   "source": [
    "function most_probable_kmer(text, k, profile)\n",
    "    score = -Inf\n",
    "    bestKmer = \"\"\n",
    "    for i = 1:length(text)-k+1\n",
    "        kmer = text[i:i+k-1]\n",
    "        newScore = prob(kmer, profile)\n",
    "        if newScore > score\n",
    "            score = newScore\n",
    "            bestKmer = kmer\n",
    "        end\n",
    "    end\n",
    "    return bestKmer\n",
    "end"
   ]
  },
  {
   "cell_type": "code",
   "execution_count": 13,
   "metadata": {
    "collapsed": false
   },
   "outputs": [
    {
     "data": {
      "text/plain": [
       "prob (generic function with 1 method)"
      ]
     },
     "execution_count": 13,
     "metadata": {},
     "output_type": "execute_result"
    }
   ],
   "source": [
    "function prob(kmer, profile)\n",
    "    score = 1\n",
    "    for j = 1:length(kmer)\n",
    "        i = symbol_to_number(kmer[j]) + 1\n",
    "        score *= profile[i,j]\n",
    "    end\n",
    "    return score\n",
    "end"
   ]
  },
  {
   "cell_type": "code",
   "execution_count": 14,
   "metadata": {
    "collapsed": false
   },
   "outputs": [
    {
     "data": {
      "text/plain": [
       "symbol_to_number (generic function with 1 method)"
      ]
     },
     "execution_count": 14,
     "metadata": {},
     "output_type": "execute_result"
    }
   ],
   "source": [
    "function symbol_to_number(symbol)\n",
    "    dict = Dict('A' => 0, 'C' => 1, 'G' => 2, 'T' => 3)\n",
    "    return dict[symbol]\n",
    "end"
   ]
  },
  {
   "cell_type": "code",
   "execution_count": 15,
   "metadata": {
    "collapsed": false
   },
   "outputs": [
    {
     "data": {
      "text/plain": [
       "\"CATGGATTGAGT\""
      ]
     },
     "execution_count": 15,
     "metadata": {},
     "output_type": "execute_result"
    }
   ],
   "source": [
    "f = open(\"data/dataset_159_3.txt\")\n",
    "text = strip(readline(f))\n",
    "k = parse(strip(readline(f)))\n",
    "profile = readdlm(f)\n",
    "close(f)\n",
    "most_probable_kmer(text, k, profile)"
   ]
  },
  {
   "cell_type": "markdown",
   "metadata": {},
   "source": [
    "##Code Challenge (1.5 - Step 5)\n",
    "* **Input:** Integers $k$ and $t$, followed by a collection of strings `Dna`.\n",
    "* **Output:** A collection of strings `bestMotifs` resulting from applying `greedy_motif_search(Dna`, $k$, $t$`)`."
   ]
  },
  {
   "cell_type": "code",
   "execution_count": 16,
   "metadata": {
    "collapsed": false
   },
   "outputs": [
    {
     "data": {
      "text/plain": [
       "greedy_motif_search (generic function with 1 method)"
      ]
     },
     "execution_count": 16,
     "metadata": {},
     "output_type": "execute_result"
    }
   ],
   "source": [
    "function greedy_motif_search(Dna, k, t)\n",
    "    bestMotifs = []\n",
    "    for i = 1:t\n",
    "        push!(bestMotifs, Dna[i][1:k])\n",
    "    end\n",
    "    motifs = Array(ASCIIString, t)\n",
    "    for j = 1:length(Dna[1])-k+1\n",
    "        motif = Dna[1][j:j+k-1]\n",
    "        motifs[1] = motif\n",
    "        for i = 2:t\n",
    "            profile = make_profile(motifs[1:i-1])\n",
    "            motifs[i] = most_probable_kmer(Dna[i], k, profile)\n",
    "        end\n",
    "        if score(motifs) < score(bestMotifs)\n",
    "            bestMotifs = motifs[:]\n",
    "        end\n",
    "    end\n",
    "    return bestMotifs\n",
    "end"
   ]
  },
  {
   "cell_type": "code",
   "execution_count": 17,
   "metadata": {
    "collapsed": false
   },
   "outputs": [
    {
     "data": {
      "text/plain": [
       "make_profile (generic function with 1 method)"
      ]
     },
     "execution_count": 17,
     "metadata": {},
     "output_type": "execute_result"
    }
   ],
   "source": [
    "function make_profile(motifs)\n",
    "    m = length(motifs)\n",
    "    n = length(motifs[1])\n",
    "    profile = Array(Float64, 4, n)\n",
    "    for j = 1:n\n",
    "        letterCounts = zeros(4) # A, C, G,T\n",
    "        for i = 1:m\n",
    "            letterCounts[symbol_to_number(motifs[i][j]) + 1] += 1\n",
    "        end\n",
    "        letterFreqs = letterCounts / sum(letterCounts)\n",
    "        profile[:,j] = letterFreqs\n",
    "    end\n",
    "    return profile\n",
    "end"
   ]
  },
  {
   "cell_type": "code",
   "execution_count": 18,
   "metadata": {
    "collapsed": false
   },
   "outputs": [
    {
     "data": {
      "text/plain": [
       "score (generic function with 1 method)"
      ]
     },
     "execution_count": 18,
     "metadata": {},
     "output_type": "execute_result"
    }
   ],
   "source": [
    "function score(motifs)\n",
    "    m = length(motifs)\n",
    "    n = length(motifs[1])\n",
    "    totalScore = 0\n",
    "    for j = 1:n\n",
    "        letterCounts = zeros(4)\n",
    "        for i = 1:m\n",
    "            letterCounts[symbol_to_number(motifs[i][j]) + 1] += 1\n",
    "        end\n",
    "        maxnum = maximum(letterCounts)\n",
    "        totalScore += m - maxnum\n",
    "    end\n",
    "    return totalScore\n",
    "end"
   ]
  },
  {
   "cell_type": "code",
   "execution_count": 19,
   "metadata": {
    "collapsed": false
   },
   "outputs": [
    {
     "data": {
      "text/plain": [
       "4x12 Array{Float64,2}:\n",
       " 0.2  0.2  0.0  0.0  0.0  0.0  0.9  0.1  0.1  0.1  0.3  0.0\n",
       " 0.1  0.6  0.0  0.0  0.0  0.0  0.0  0.4  0.1  0.2  0.4  0.6\n",
       " 0.0  0.0  1.0  1.0  0.9  0.9  0.1  0.0  0.0  0.0  0.0  0.0\n",
       " 0.7  0.2  0.0  0.0  0.1  0.1  0.0  0.5  0.8  0.7  0.3  0.4"
      ]
     },
     "execution_count": 19,
     "metadata": {},
     "output_type": "execute_result"
    }
   ],
   "source": [
    "motifs = [\"TCGGGGGTTTTT\",\n",
    "\"CCGGTGACTTAC\",\n",
    "\"ACGGGGATTTTC\",\n",
    "\"TTGGGGACTTTT\",\n",
    "\"AAGGGGACTTCC\",\n",
    "\"TTGGGGACTTCC\",\n",
    "\"TCGGGGATTCAT\",\n",
    "\"TCGGGGATTCCT\",\n",
    "\"TAGGGGAACTAC\",\n",
    "\"TCGGGTATAACC\"]\n",
    "score(motifs) # test case for score()\n",
    "make_profile(motifs) # test case for make_profile"
   ]
  },
  {
   "cell_type": "code",
   "execution_count": 20,
   "metadata": {
    "collapsed": false
   },
   "outputs": [
    {
     "data": {
      "text/plain": [
       "5-element Array{ASCIIString,1}:\n",
       " \"CAG\"\n",
       " \"CAG\"\n",
       " \"CAA\"\n",
       " \"CAA\"\n",
       " \"CAA\""
      ]
     },
     "execution_count": 20,
     "metadata": {},
     "output_type": "execute_result"
    }
   ],
   "source": [
    "Dna = [\"GGCGTTCAGGCA\",\n",
    "\"AAGAATCAGTCA\",\n",
    "\"CAAGGAGTTCGC\",\n",
    "\"CACGTCAATCAC\",\n",
    "\"CAATAATATTCG\"]\n",
    "k = 3\n",
    "t = 5\n",
    "greedy_motif_search(Dna, k, t)"
   ]
  },
  {
   "cell_type": "code",
   "execution_count": 21,
   "metadata": {
    "collapsed": false
   },
   "outputs": [
    {
     "data": {
      "text/plain": [
       "25-element Array{ASCIIString,1}:\n",
       " \"GATCGTTTCCCA\"\n",
       " \"ACCCCACCTCCG\"\n",
       " \"AATTAGCTAAGG\"\n",
       " \"CGGCCCGCGCGA\"\n",
       " \"CCCCCAGTAACA\"\n",
       " \"CCTTCGGCAAGA\"\n",
       " \"CGGCCTTCGCGA\"\n",
       " \"CGGCCCGCTCGA\"\n",
       " \"CGGCCGTTGCGA\"\n",
       " \"CGGCCTCCTCGA\"\n",
       " \"CGGCCCTTTCGA\"\n",
       " \"CGGCCCCAGCGA\"\n",
       " \"GCGCCATAACCA\"\n",
       " \"CGGCCTTCCCGA\"\n",
       " \"CGCTATGTAACG\"\n",
       " \"CGGCCGCATCGA\"\n",
       " \"AGGCGACCGCGA\"\n",
       " \"CGGCCACCACGA\"\n",
       " \"GGCCCCCAAAGA\"\n",
       " \"CGGCCACCGCGA\"\n",
       " \"CGGCCTGCACGA\"\n",
       " \"GGTTCGGCGCCA\"\n",
       " \"GGTCGACCCCCA\"\n",
       " \"CGGCCACAACGA\"\n",
       " \"CGGCCACAACGA\""
      ]
     },
     "execution_count": 21,
     "metadata": {},
     "output_type": "execute_result"
    }
   ],
   "source": [
    "f = open(\"data/dataset_159_5.txt\")\n",
    "nums = split(readline(f))\n",
    "k = parse(nums[1])\n",
    "t = parse(nums[2])\n",
    "Dna = readdlm(f)\n",
    "close(f)\n",
    "greedy_motif_search(Dna, k, t)"
   ]
  },
  {
   "cell_type": "markdown",
   "metadata": {},
   "source": [
    "##Code Challenge (1.6 - Step 9)\n",
    "* **Input:** Integers $k$ and $t$, followed by a collection of strings `Dna`.\n",
    "* **Output:** A collection of strings `bestMotifs` resulting from applying `greedy_motif_search(Dna`, $k$, $t$`)` with pseudocounts."
   ]
  },
  {
   "cell_type": "code",
   "execution_count": 22,
   "metadata": {
    "collapsed": false
   },
   "outputs": [
    {
     "data": {
      "text/plain": [
       "greedy_motif_search_pseudocount (generic function with 1 method)"
      ]
     },
     "execution_count": 22,
     "metadata": {},
     "output_type": "execute_result"
    }
   ],
   "source": [
    "function greedy_motif_search_pseudocount(Dna, k, t)\n",
    "    bestMotifs = []\n",
    "    for i = 1:t\n",
    "        push!(bestMotifs, Dna[i][1:k])\n",
    "    end\n",
    "    motifs = Array(ASCIIString, t)\n",
    "    for j = 1:length(Dna[1])-k+1\n",
    "        motif = Dna[1][j:j+k-1]\n",
    "        motifs[1] = motif\n",
    "        for i = 2:t\n",
    "            profile = make_profile_pseudocount(motifs[1:i-1])\n",
    "            motifs[i] = most_probable_kmer(Dna[i], k, profile)\n",
    "        end\n",
    "        if score(motifs) < score(bestMotifs)\n",
    "            bestMotifs = motifs[:]\n",
    "        end\n",
    "    end\n",
    "    return bestMotifs\n",
    "end"
   ]
  },
  {
   "cell_type": "code",
   "execution_count": 23,
   "metadata": {
    "collapsed": false
   },
   "outputs": [
    {
     "data": {
      "text/plain": [
       "make_profile_pseudocount (generic function with 1 method)"
      ]
     },
     "execution_count": 23,
     "metadata": {},
     "output_type": "execute_result"
    }
   ],
   "source": [
    "function make_profile_pseudocount(motifs)\n",
    "    m = length(motifs)\n",
    "    n = length(motifs[1])\n",
    "    profile = Array(Float64, 4, n)\n",
    "    for j = 1:n\n",
    "        letterCounts = zeros(4) # A, C, G,T\n",
    "        for i = 1:m\n",
    "            letterCounts[symbol_to_number(motifs[i][j]) + 1] += 1\n",
    "        end\n",
    "        letterCounts += 1 # pseudocount of 1\n",
    "        letterFreqs = letterCounts / sum(letterCounts)\n",
    "        profile[:,j] = letterFreqs\n",
    "    end\n",
    "    return profile\n",
    "end"
   ]
  },
  {
   "cell_type": "code",
   "execution_count": 24,
   "metadata": {
    "collapsed": false
   },
   "outputs": [
    {
     "data": {
      "text/plain": [
       "25-element Array{ASCIIString,1}:\n",
       " \"ACTCTGACTATC\"\n",
       " \"ACTCGGACTATG\"\n",
       " \"ACTCGGACTATT\"\n",
       " \"ACTCAGGCTCTC\"\n",
       " \"ACTCCGGCTCTA\"\n",
       " \"ACTCGGACTATG\"\n",
       " \"ACTCCGCCTCTG\"\n",
       " \"ACTCGGACTGTT\"\n",
       " \"ACTCCGTCTGTT\"\n",
       " \"ACTCGGCCTTTG\"\n",
       " \"ACTCAGACTATT\"\n",
       " \"ACTCTGCCTCTA\"\n",
       " \"ACTCGGGCTCTT\"\n",
       " \"ACTCCGTCTTTA\"\n",
       " \"ACTCAGTCTCTA\"\n",
       " \"ACTCGGCCTTTA\"\n",
       " \"ACTCGGCCTTTT\"\n",
       " \"ACTCCGCCTATT\"\n",
       " \"ACTCAGTCTATA\"\n",
       " \"ACTCCGCCTTTA\"\n",
       " \"ACTCAGGCTCTC\"\n",
       " \"ACTCGGGCTTTA\"\n",
       " \"ACTCCGCCTGTT\"\n",
       " \"ACTCCGTCTTTA\"\n",
       " \"ACTCTGCCTCTG\""
      ]
     },
     "execution_count": 24,
     "metadata": {},
     "output_type": "execute_result"
    }
   ],
   "source": [
    "f = open(\"data/dataset_160_9.txt\")\n",
    "nums = split(readline(f))\n",
    "k = parse(nums[1])\n",
    "t = parse(nums[2])\n",
    "Dna = readdlm(f)\n",
    "close(f)\n",
    "greedy_motif_search_pseudocount(Dna, k, t)"
   ]
  }
 ],
 "metadata": {
  "kernelspec": {
   "display_name": "Julia 0.4.5",
   "language": "julia",
   "name": "julia-0.4"
  },
  "language_info": {
   "file_extension": ".jl",
   "mimetype": "application/julia",
   "name": "julia",
   "version": "0.4.5"
  }
 },
 "nbformat": 4,
 "nbformat_minor": 0
}
