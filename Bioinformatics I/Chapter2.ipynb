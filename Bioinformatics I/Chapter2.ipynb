{
 "cells": [
  {
   "cell_type": "markdown",
   "metadata": {},
   "source": [
    "#Which DNA Patterns Play the Role of Molecular Clocks?"
   ]
  },
  {
   "cell_type": "markdown",
   "metadata": {
    "collapsed": true
   },
   "source": [
    "##Code Challenge (1.2 - Step 7)\n",
    "**Implanted Motif Problem:** *Find all ($k$,$d$)-motifs in a collection of strings.*\n",
    "* **Input:** A collection of strings `Dna` and integers $k$ and $d$.\n",
    "* **Output:** All ($k$,$d$)-motifs in `Dna`."
   ]
  },
  {
   "cell_type": "code",
   "execution_count": null,
   "metadata": {
    "collapsed": true
   },
   "outputs": [],
   "source": [
    "function motif_enumeration(Dna, k, d)\n",
    "    patterns = Set()\n",
    "    for string = Dna\n",
    "        for i = 1:length(string)-k+1\n",
    "            pattern0 = string[i:i+k-1]\n",
    "            neighbors = neihbors(pattern0, d)\n",
    "            for pattern1 = neighbors\n",
    "                fo"
   ]
  }
 ],
 "metadata": {
  "kernelspec": {
   "display_name": "Julia 0.4.5",
   "language": "julia",
   "name": "julia-0.4"
  },
  "language_info": {
   "file_extension": ".jl",
   "mimetype": "application/julia",
   "name": "julia",
   "version": "0.4.5"
  }
 },
 "nbformat": 4,
 "nbformat_minor": 0
}
