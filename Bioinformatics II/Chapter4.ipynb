{
 "cells": [
  {
   "cell_type": "markdown",
   "metadata": {},
   "source": [
    "#How Do We Sequence Antibiotics?\n",
    "##Code Challenge (1.2 - Step 3)\n",
    "**Protein Translation Problem:** Translate an RNA string into an amino acid string.\n",
    "* **Input:** An RNA string `pattern` and the array `geneticCode`.\n",
    "* **Output:** The translation of `pattern` into an amino acid string `peptide`."
   ]
  },
  {
   "cell_type": "code",
   "execution_count": 4,
   "metadata": {
    "collapsed": false
   },
   "outputs": [
    {
     "data": {
      "text/plain": [
       "translate (generic function with 1 method)"
      ]
     },
     "execution_count": 4,
     "metadata": {},
     "output_type": "execute_result"
    }
   ],
   "source": [
    "function translate(pattern, geneticCode)\n",
    "    index = 1\n",
    "    codon = pattern[index:index+2]\n",
    "    peptide = \"\"\n",
    "    while geneticCode[codon] != \"\"\n",
    "        peptide = string(peptide, geneticCode[codon])\n",
    "        index += 3\n",
    "        codon = pattern[index:index+2]\n",
    "    end\n",
    "    peptide\n",
    "end"
   ]
  },
  {
   "cell_type": "code",
   "execution_count": 5,
   "metadata": {
    "collapsed": false
   },
   "outputs": [
    {
     "data": {
      "text/plain": [
       "Dict{ASCIIString,ASCIIString} with 64 entries:\n",
       "  \"GAC\" => \"D\"\n",
       "  \"UAU\" => \"Y\"\n",
       "  \"UUA\" => \"L\"\n",
       "  \"CUU\" => \"L\"\n",
       "  \"CCU\" => \"P\"\n",
       "  \"GGC\" => \"G\"\n",
       "  \"GCU\" => \"A\"\n",
       "  \"CGG\" => \"R\"\n",
       "  \"CAG\" => \"Q\"\n",
       "  \"ACG\" => \"T\"\n",
       "  \"GAU\" => \"D\"\n",
       "  \"AGA\" => \"R\"\n",
       "  \"UGU\" => \"C\"\n",
       "  \"GUU\" => \"V\"\n",
       "  \"CUA\" => \"L\"\n",
       "  \"UUG\" => \"L\"\n",
       "  \"CGA\" => \"R\"\n",
       "  \"CUC\" => \"L\"\n",
       "  \"CAA\" => \"Q\"\n",
       "  \"UUU\" => \"F\"\n",
       "  \"UUC\" => \"F\"\n",
       "  \"AUU\" => \"I\"\n",
       "  \"CUG\" => \"L\"\n",
       "  \"UAA\" => \"\"\n",
       "  \"AAC\" => \"N\"\n",
       "  ⋮     => ⋮"
      ]
     },
     "execution_count": 5,
     "metadata": {},
     "output_type": "execute_result"
    }
   ],
   "source": [
    "geneticCode = Dict(\"AAA\"=>\"K\",\"AAC\"=>\"N\",\"AAG\"=>\"K\",\"AAU\"=>\"N\",\"ACA\"=>\"T\",\"ACC\"=>\"T\",\"ACG\"=>\"T\",\"ACU\"=>\"T\",\"AGA\"=>\"R\",\"AGC\"=>\"S\",\"AGG\"=>\"R\",\"AGU\"=>\"S\",\"AUA\"=>\"I\",\"AUC\"=>\"I\",\"AUG\"=>\"M\",\"AUU\"=>\"I\",\"CAA\"=>\"Q\",\"CAC\"=>\"H\",\"CAG\"=>\"Q\",\"CAU\"=>\"H\",\"CCA\"=>\"P\",\"CCC\"=>\"P\",\"CCG\"=>\"P\",\"CCU\"=>\"P\",\"CGA\"=>\"R\",\"CGC\"=>\"R\",\"CGG\"=>\"R\",\"CGU\"=>\"R\",\"CUA\"=>\"L\",\"CUC\"=>\"L\",\"CUG\"=>\"L\",\"CUU\"=>\"L\",\"GAA\"=>\"E\",\"GAC\"=>\"D\",\"GAG\"=>\"E\",\"GAU\"=>\"D\",\"GCA\"=>\"A\",\"GCC\"=>\"A\",\"GCG\"=>\"A\",\"GCU\"=>\"A\",\"GGA\"=>\"G\",\"GGC\"=>\"G\",\"GGG\"=>\"G\",\"GGU\"=>\"G\",\"GUA\"=>\"V\",\"GUC\"=>\"V\",\"GUG\"=>\"V\",\"GUU\"=>\"V\",\"UAA\"=>\"\",\"UAC\"=>\"Y\",\"UAG\"=>\"\",\"UAU\"=>\"Y\",\"UCA\"=>\"S\",\"UCC\"=>\"S\",\"UCG\"=>\"S\",\"UCU\"=>\"S\",\"UGA\"=>\"\",\"UGC\"=>\"C\",\"UGG\"=>\"W\",\"UGU\"=>\"C\",\"UUA\"=>\"L\",\"UUC\"=>\"F\",\"UUG\"=>\"L\",\"UUU\"=>\"F\")"
   ]
  },
  {
   "cell_type": "code",
   "execution_count": 6,
   "metadata": {
    "collapsed": false
   },
   "outputs": [
    {
     "data": {
      "text/plain": [
       "\"MAMAPRTEINSTRING\""
      ]
     },
     "execution_count": 6,
     "metadata": {},
     "output_type": "execute_result"
    }
   ],
   "source": [
    "translate(\"AUGGCCAUGGCGCCCAGAACUGAGAUCAAUAGUACCCGUAUUAACGGGUGA\", geneticCode)"
   ]
  },
  {
   "cell_type": "code",
   "execution_count": 8,
   "metadata": {
    "collapsed": false
   },
   "outputs": [
    {
     "data": {
      "text/plain": [
       "\"MKLSPYLEERSSKSLERSKFRGIRTDPPMATDGAFTTYAWRHQTRTPRFVELHCWKHFLGEPQNAPVSSERLYSIPLFLTVICPLCPQYMDLSSSLRLRIRRSQNDLSTSRPRSMYTMRGGSIIVSWRILHVTGVSNQTFLRHGNPRSLTHHWDHRPSMRFLRRELPRSRSGAQVRGPYHYRGIYLNWRLLVFTLPVDGKRGAYPLCVLKVGTVPHAFWNSNGARTVIVQGWGERGGSRVIADWTQPKRRTEASLRPRAHPPDLPIQGVSPGHNTEVSVREPFANSVRQWAPVQKTLYNPLYLNPPLLLTGQRLSKRVNVQWPLSQARVFGFQQNVSRHGAYPARGSHSAVPRLASARLGALNGSNTWTQELGDQGSERQLWSAVMRQEDFQTVLASVPDNGFLRTSTKSPSGVPFGNCTTLVVRHPGLGVRRLESKFMPALIGAKCNFRQTLILQVRPLGVGRPCGLNTAAQPVERAGKLHGWRALVVRHDAGFCEAGCAHRVNLFSHTSPLYLRSNGCDCSSSPEHEYYRRLIAFLFAAMQYVLKVPRSDSVSDAVPGCFLRKTNLYLCRGFHGTLEDIPGWLLHRIPRDYPLPWSYCMIKSFHLGVRWPFPLHFYSRCHGHGRYSSLLVTSVQYYAYADGLSALTEDKKSAGNYAVPKPRISLNLKRSSDRLWAFCCCAIAIEGDGITILSSSLTVGMFFSTSRYLLNAYHCLTPVGTFWCGLQALKRQGRRRPDNSADQNTCRSLKDLLVISAYVAHHDRVYCNWTAQHLGHAHPALCASSSRAGEGTLVYMTADTTDRLTRRQVLCVAWPHRKLGNHGSVFKPQMLILRTTLEMFISVVKIPLQRTCNRRRSATNKKGHMSNHAGVRTSVSAGDRWTDRSARDENARGLTGPIVFYLAELCPPRIKFRRFIPRFENKSQGCIHNPGARSFSLVSIAGITSGSSGPRRKYETCVVVFPQLRAHSLAVTARYLYIGRPSMPNPGNRGSSVPVGSRTAPGHPVQLSRVVGADRGTGLAFFCTDDVYVILDPRSWGRGQLHTLSSHLRSRKRLGTKLSPKLLVDSPSSGRVAHTEGELQSPTVSSVHGDIQDTGSSANVSGATLICLIPRLSARPAGLLYPVTTRVLTEARETVSYCRLDSRPYHVLRASVTRSSVILRQLSTPYWNSPPVDGDHSGQISAMGDSLIIWPPLSGRTIVISHSRPRAAKVLSNTLVNSQHWHSTNYLTAYGAFIARGKYRTWCAQSHTSSSISQTQQKLSDIGAEICRLNPFFLLMSNPPVRSGSSTFRVVILQRVSHYRIESGKMTESWRLWPQCYVRVHQLYGGTCIWCPQYQAWAIFGIRNGLMDLCICGPYAFVRHGDLPILDFMKLLAIPLLLLRTFVQKAARHSHNTSIPLELACFQSEQQIRLVAHLKDGGTQSDSGLNAGYCIDLVSGRSLHLESSGARDWYRFDSLYQHAPPEELESDRYYVFRRRVRIDEGATNTSLDDSKRAGITKEWADSLSPQLPTPAEDKGYVIYCAGDVCLALRSALGSMYDSLPGLYICANIRHILNSGVANLSSTYKILTYVCYYVGCLEKTHRLLLRGGLDIARQPSMGTILIITIINLISLIYFVSYMTMGATEGRKLDAYRDAPGRPRPLTKWSRIPAYRSEQMTPLTILRLPIIVLNQRIILYRLFVLFMRQHRRGPRAYPALPNGTPHTCRLCVPYTVPATVKPAIVLNSRRGTFNGRGKPSEIDSTHLHSHDGSKCSAWSLAAFGKGNAITPLCDRFVLLSRFRTTVCARESNNLSQKAGPSLALGGNRIAAKTSSPGAQVVDSTLGSIRTAPEDVFALRTDTRSSSRPACNTKCARPECIGSNVDCNKGQRQNRKRCHCRIIAGIFGGQYTKREIPFGWRHSREEPQSMGNEVYGKVSSYLSVLERRGDCEYYGLVVEKPSTIAKSITKYLYSKAPIAALNALPFACLGARWFLDCSWIAHLRFLTLSCSWSRGERPHTLKPKRIIQILSLPLSPGRHPVFLTSLQIWTCYALLPYPLSEKDEHDNLLDLSAGHYTLKYACVLYEDPARSRRAVPYHSHVNLAASVHYPQAAGSANTGELTPILPWKRLVSKVIWHLLRYHSAVIRHMVGYSTDVPIWKHRVLWASSINHRNSPPYVPSVRNRSILHLNELSLPVYLGRSKALRIIRAARCPRRTLARRRSVPGLTWDTIFFTAPLIGVICRIQWSLEARISAAPTHRVHRVNNPQMNAQGIPFIRLRSLTCLPTKEHSLVTPDHVGAKNQRCKRLFEHRGLQNQDIAAHVFASLRYESQYTTGAFRSWCHIGVAAHVLAHTTPLWTNEYASSQHWFEYKLTLIPVSPEASKQIAEIASSFIGGHSFKYVDSGGRRSRRVTPTDAQLISNRDSRLTLRPNLDRDLSIIYQGYSQQALGYQCLMAMGGSSNRLRINHLRSFNRRHVRQKRTKSSSVHHTPMPKADTGRGIVKRANARLSLRGLPLIWLTLNWSLSVVRDDLHIRRDLASNLYRPLRHVSVIWANDGRSFNYRPYPLSQRFSRWRLTVVSGGQPLYMDPKLRSPTSAAPILAGRLLLGLGIRSNRPSPMGYSAVAQNNWPDFLLGVFRHLGTTPQFRLNILIGMGGIERDSAIGSHVRPNEPSQTCYLQAGDACLIGISTTPGSVTYPIRASEIGRPTRGLNRFSANTLLDAICCVHQRRHSSTTFKVSGRDVRSSVPRHSIGLLRPYRHCFRYVLRTNRFSSNMLHLILVLETGRKNSEVFREDILCISCYMTHAHFLRSRCVSKGYLTSSGNAAPRERPPLPVKANKNRRQSTTDYTTSRSRSAVHFWINLTGGQEKGWMQYATVRTRSKLTFYPLSGLCAARAVLRYPLSIVGHVVGVQVTARIRATTSLEFRLRLDTIADPTAVTEVREPHTIEIIQIPTPRRSGL\""
      ]
     },
     "execution_count": 8,
     "metadata": {},
     "output_type": "execute_result"
    }
   ],
   "source": [
    "f = open(\"data4/dataset_96_4.txt\")\n",
    "pattern = readline(f)\n",
    "close(f)\n",
    "translate(pattern, geneticCode)"
   ]
  }
 ],
 "metadata": {
  "kernelspec": {
   "display_name": "Julia 0.4.6",
   "language": "julia",
   "name": "julia-0.4"
  },
  "language_info": {
   "file_extension": ".jl",
   "mimetype": "application/julia",
   "name": "julia",
   "version": "0.4.6"
  }
 },
 "nbformat": 4,
 "nbformat_minor": 0
}
