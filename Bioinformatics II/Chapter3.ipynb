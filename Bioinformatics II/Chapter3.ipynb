{
 "cells": [
  {
   "cell_type": "markdown",
   "metadata": {},
   "source": [
    "#How Do We Assemble Genomes?\n",
    "##Code Challenge (1.2 - Step 3)\n",
    "**String Composition Problem:** Generate the $k$-mer composition of a string.\n",
    "* **Input:**An integer $k$ and a string `text`.\n",
    "* **Output:** $\\text{Composition}_k($ `text` $)$ with the $k$-mers in any order."
   ]
  },
  {
   "cell_type": "code",
   "execution_count": 24,
   "metadata": {
    "collapsed": false
   },
   "outputs": [
    {
     "data": {
      "text/plain": [
       "composition (generic function with 1 method)"
      ]
     },
     "execution_count": 24,
     "metadata": {},
     "output_type": "execute_result"
    }
   ],
   "source": [
    "function composition(k, text)\n",
    "    kmers = []\n",
    "    for i = 1:length(text)-k+1\n",
    "        push!(kmers, text[i:i+k-1])\n",
    "    end\n",
    "    kmers\n",
    "end"
   ]
  },
  {
   "cell_type": "code",
   "execution_count": 25,
   "metadata": {
    "collapsed": false
   },
   "outputs": [
    {
     "data": {
      "text/plain": [
       "5-element Array{Any,1}:\n",
       " \"CAATC\"\n",
       " \"AATCC\"\n",
       " \"ATCCA\"\n",
       " \"TCCAA\"\n",
       " \"CCAAC\""
      ]
     },
     "execution_count": 25,
     "metadata": {},
     "output_type": "execute_result"
    }
   ],
   "source": [
    "composition(5, \"CAATCCAAC\")"
   ]
  },
  {
   "cell_type": "code",
   "execution_count": 26,
   "metadata": {
    "collapsed": false
   },
   "outputs": [],
   "source": [
    "f = open(\"data3/dataset_197_3.txt\")\n",
    "k = parse(readline(f))\n",
    "text = strip(readline(f))\n",
    "close(f)\n",
    "output = composition(k, text)\n",
    "writedlm(\"data3/output_197_3.txt\", output)"
   ]
  },
  {
   "cell_type": "markdown",
   "metadata": {},
   "source": [
    "##Code Challenge (1.3 - Step 3)\n",
    "**String Spelled by a Genome Path Problem:** Reconstruct a string from its genome path.\n",
    "* **Input:** A sequence of $k$-mers $\\text{pattern}_1, \\dots, \\text{pattern}_n$ such that the last $k-1$ symbols of $\\text{pattern}_i$ are equal to the first $k-1$ symbols of $\\text{pattern}_{i+1}$ for $1 \\leq i \\leq n-1$.\n",
    "* **Output:** A string `text` of length $k+n-1$ such that the $i$th $k$-mer in `text` is equal to $\\text{pattern}_i$ for $1 \\leq i \\leq n$.\n"
   ]
  },
  {
   "cell_type": "code",
   "execution_count": 27,
   "metadata": {
    "collapsed": false
   },
   "outputs": [],
   "source": [
    "using CS181"
   ]
  },
  {
   "cell_type": "code",
   "execution_count": 28,
   "metadata": {
    "collapsed": false
   },
   "outputs": [
    {
     "data": {
      "text/plain": [
       "path_to_text (generic function with 1 method)"
      ]
     },
     "execution_count": 28,
     "metadata": {},
     "output_type": "execute_result"
    }
   ],
   "source": [
    "function path_to_text(patterns)\n",
    "    k = length(patterns[1])\n",
    "    text = StringBuilder();\n",
    "    append(text, patterns[1])\n",
    "    for i = 2:length(patterns)\n",
    "        append(text, patterns[i][end])\n",
    "    end\n",
    "    get_string(text)\n",
    "end"
   ]
  },
  {
   "cell_type": "code",
   "execution_count": 29,
   "metadata": {
    "collapsed": false
   },
   "outputs": [
    {
     "data": {
      "text/plain": [
       "\"ACCGAAGCT\""
      ]
     },
     "execution_count": 29,
     "metadata": {},
     "output_type": "execute_result"
    }
   ],
   "source": [
    "path_to_text([\"ACCGA\",\n",
    "\"CCGAA\",\n",
    "\"CGAAG\",\n",
    "\"GAAGC\",\n",
    "\"AAGCT\"])"
   ]
  },
  {
   "cell_type": "code",
   "execution_count": 30,
   "metadata": {
    "collapsed": false
   },
   "outputs": [],
   "source": [
    "f = open(\"data3/dataset_198_3.txt\")\n",
    "patterns = readdlm(f)\n",
    "close(f)\n",
    "## uncomment to see output\n",
    "## path_to_text(patterns)"
   ]
  },
  {
   "cell_type": "markdown",
   "metadata": {
    "collapsed": true
   },
   "source": [
    "##Code Challenge (1.3 - Step 9)\n",
    "Solve the Overlap Graph Problem.\n",
    "* **Input:** A collection of $k$-mers, `patterns`.\n",
    "* **Output:** The overlap graph $\\text{Overlap}($ `patterns` $)$, in the form of an adjacency list."
   ]
  },
  {
   "cell_type": "code",
   "execution_count": 31,
   "metadata": {
    "collapsed": false
   },
   "outputs": [
    {
     "data": {
      "text/plain": [
       "overlap_graph (generic function with 1 method)"
      ]
     },
     "execution_count": 31,
     "metadata": {},
     "output_type": "execute_result"
    }
   ],
   "source": [
    "function overlap_graph(patterns)\n",
    "    adjacency = []\n",
    "    for kmer in patterns\n",
    "        prefix = kmer[2:end]\n",
    "        for kmer1 in patterns\n",
    "            suffix = kmer1[1:end-1]\n",
    "            if prefix == suffix\n",
    "                push!(adjacency, (kmer, kmer1))\n",
    "            end\n",
    "        end\n",
    "    end\n",
    "    return adjacency\n",
    "end     "
   ]
  },
  {
   "cell_type": "code",
   "execution_count": 32,
   "metadata": {
    "collapsed": false
   },
   "outputs": [
    {
     "name": "stdout",
     "output_type": "stream",
     "text": [
      "GCATG -> CATGC\n",
      "CATGC -> ATGCG\n",
      "AGGCA -> GGCAT\n",
      "GGCAT -> GCATG\n"
     ]
    }
   ],
   "source": [
    "patterns = [\"ATGCG\",\n",
    "\"GCATG\",\n",
    "\"CATGC\",\n",
    "\"AGGCA\",\n",
    "\"GGCAT\"]\n",
    "overlaps = overlap_graph(patterns)\n",
    "for tuple in overlaps\n",
    "    println(string(tuple[1], \" -> \", tuple[2]))\n",
    "end"
   ]
  },
  {
   "cell_type": "code",
   "execution_count": 33,
   "metadata": {
    "collapsed": false
   },
   "outputs": [],
   "source": [
    "f = open(\"data3/dataset_198_9.txt\")\n",
    "patterns = readdlm(f)\n",
    "close(f)\n",
    "output = overlap_graph(patterns)\n",
    "writedlm(\"data3/output_198_9.txt\", output)"
   ]
  },
  {
   "cell_type": "markdown",
   "metadata": {},
   "source": [
    "##Code Challenge (1.4 - Step 6)\n",
    "Solve the De Bruijn Graph from a String Problem.\n",
    "* **Input:** An integer $k$ and a string `text`.\n",
    "* **Output:** $\\text{DeBruijn}_k($ `text` $)$, in the form of an adjacency list."
   ]
  },
  {
   "cell_type": "code",
   "execution_count": 34,
   "metadata": {
    "collapsed": false
   },
   "outputs": [
    {
     "data": {
      "text/plain": [
       "deBruijn (generic function with 2 methods)"
      ]
     },
     "execution_count": 34,
     "metadata": {},
     "output_type": "execute_result"
    }
   ],
   "source": [
    "function deBruijn(k, text)\n",
    "    nodeLength = k - 1\n",
    "    adjacency = Dict()\n",
    "    for i = 1:length(text)-nodeLength\n",
    "        sourceNode = text[i:i+nodeLength-1]\n",
    "        sinkNode = text[i+1:i+nodeLength]\n",
    "        if haskey(adjacency, sourceNode)\n",
    "            push!(adjacency[sourceNode], sinkNode)\n",
    "        else\n",
    "            adjacency[sourceNode] = [sinkNode]\n",
    "        end\n",
    "    end\n",
    "    return adjacency\n",
    "end"
   ]
  },
  {
   "cell_type": "code",
   "execution_count": 35,
   "metadata": {
    "collapsed": false
   },
   "outputs": [
    {
     "data": {
      "text/plain": [
       "Dict{Any,Any} with 9 entries:\n",
       "  \"ATT\" => ASCIIString[\"TTC\"]\n",
       "  \"GAT\" => ASCIIString[\"ATT\"]\n",
       "  \"CTA\" => ASCIIString[\"TAA\"]\n",
       "  \"AGA\" => ASCIIString[\"GAT\"]\n",
       "  \"TAA\" => ASCIIString[\"AAG\"]\n",
       "  \"CTC\" => ASCIIString[\"TCT\"]\n",
       "  \"AAG\" => ASCIIString[\"AGA\",\"AGA\"]\n",
       "  \"TTC\" => ASCIIString[\"TCT\"]\n",
       "  \"TCT\" => ASCIIString[\"CTC\",\"CTA\"]"
      ]
     },
     "execution_count": 35,
     "metadata": {},
     "output_type": "execute_result"
    }
   ],
   "source": [
    "deBruijn(4, \"AAGATTCTCTAAGA\")"
   ]
  },
  {
   "cell_type": "code",
   "execution_count": 36,
   "metadata": {
    "collapsed": false
   },
   "outputs": [],
   "source": [
    "f = open(\"data3/dataset_199_6.txt\")\n",
    "k = parse(readline(f))\n",
    "text = strip(readline(f))\n",
    "close(f)\n",
    "output = deBruijn(k, text)\n",
    "writedlm(\"data3/output_199_6.txt\", output)"
   ]
  },
  {
   "cell_type": "markdown",
   "metadata": {},
   "source": [
    "##Code Challenge (1.5 - Step 7)\n",
    "Construct the de Bruijn graph from a set of $k$-mers.\n",
    "* **Input:** An collection of $k$-mers, `patterns`.\n",
    "* **Output:** The adjacency list of the de Bruijn graph $\\text{DeBruijn}($ `patterns` $)$."
   ]
  },
  {
   "cell_type": "code",
   "execution_count": 37,
   "metadata": {
    "collapsed": false
   },
   "outputs": [
    {
     "data": {
      "text/plain": [
       "deBruijn (generic function with 2 methods)"
      ]
     },
     "execution_count": 37,
     "metadata": {},
     "output_type": "execute_result"
    }
   ],
   "source": [
    "function deBruijn(patterns)\n",
    "    adjacency = Dict()\n",
    "    for kmer in patterns\n",
    "        prefix = kmer[1:end-1]\n",
    "        suffix = kmer[2:end]\n",
    "        if haskey(adjacency, prefix)\n",
    "            push!(adjacency[prefix], suffix)\n",
    "        else\n",
    "            adjacency[prefix] = [suffix]\n",
    "        end\n",
    "    end\n",
    "    return adjacency\n",
    "end"
   ]
  },
  {
   "cell_type": "code",
   "execution_count": 38,
   "metadata": {
    "collapsed": false
   },
   "outputs": [
    {
     "data": {
      "text/plain": [
       "Dict{Any,Any} with 5 entries:\n",
       "  \"CAG\" => ASCIIString[\"AGG\",\"AGG\"]\n",
       "  \"AGG\" => ASCIIString[\"GGG\"]\n",
       "  \"GGG\" => ASCIIString[\"GGG\",\"GGA\"]\n",
       "  \"GGA\" => ASCIIString[\"GAG\"]\n",
       "  \"GAG\" => ASCIIString[\"AGG\"]"
      ]
     },
     "execution_count": 38,
     "metadata": {},
     "output_type": "execute_result"
    }
   ],
   "source": [
    "patterns = [\"GAGG\",\n",
    "\"CAGG\",\n",
    "\"GGGG\",\n",
    "\"GGGA\",\n",
    "\"CAGG\",\n",
    "\"AGGG\",\n",
    "\"GGAG\"]\n",
    "deBruijn(patterns)"
   ]
  },
  {
   "cell_type": "code",
   "execution_count": 39,
   "metadata": {
    "collapsed": false
   },
   "outputs": [],
   "source": [
    "f = open(\"data3/dataset_200_7.txt\")\n",
    "patterns = readdlm(f)\n",
    "close(f)\n",
    "output = deBruijn(patterns)\n",
    "writedlm(\"data3/output_200_7.txt\", output)"
   ]
  },
  {
   "cell_type": "markdown",
   "metadata": {},
   "source": [
    "##Code Challenge (2.2 - Step 2)\n",
    "Solve the Eulerian Cycle Problem.\n",
    "* **Input:** The adjacency list of an Eulerian directed graph.\n",
    "* **Output:** An Eulerian cycle in this graph."
   ]
  },
  {
   "cell_type": "code",
   "execution_count": 40,
   "metadata": {
    "collapsed": false
   },
   "outputs": [
    {
     "data": {
      "text/plain": [
       "eulerian_cycle (generic function with 1 method)"
      ]
     },
     "execution_count": 40,
     "metadata": {},
     "output_type": "execute_result"
    }
   ],
   "source": [
    "function eulerian_cycle(adjacency, start)\n",
    "    stack = [start]\n",
    "    curr = pop!(adjacency[start])\n",
    "    circuit = []\n",
    "    while !isempty(stack)\n",
    "        while !isempty(adjacency[curr])\n",
    "            next = pop!(adjacency[curr])\n",
    "            push!(stack, curr)\n",
    "            curr = next\n",
    "        end\n",
    "        while isempty(adjacency[curr]) && !isempty(stack)\n",
    "            push!(circuit, curr)\n",
    "            curr = pop!(stack)\n",
    "        end\n",
    "    end\n",
    "    last = circuit[end]\n",
    "    push!(reverse(circuit), last)\n",
    "end"
   ]
  },
  {
   "cell_type": "code",
   "execution_count": 41,
   "metadata": {
    "collapsed": false
   },
   "outputs": [
    {
     "data": {
      "text/plain": [
       "13-element Array{Any,1}:\n",
       " 3\n",
       " 2\n",
       " 6\n",
       " 8\n",
       " 7\n",
       " 9\n",
       " 6\n",
       " 5\n",
       " 4\n",
       " 2\n",
       " 1\n",
       " 0\n",
       " 3"
      ]
     },
     "execution_count": 41,
     "metadata": {},
     "output_type": "execute_result"
    }
   ],
   "source": [
    "graph = Dict(0 => [3],\n",
    "1 => [0],\n",
    "2 => [1,6],\n",
    "3 => [2],\n",
    "4 => [2],\n",
    "5 => [4],\n",
    "6 => [5,8],\n",
    "7 => [9],\n",
    "8 => [7],\n",
    "9 => [6])\n",
    "eulerian_cycle(graph, 0)"
   ]
  },
  {
   "cell_type": "markdown",
   "metadata": {
    "collapsed": false
   },
   "source": [
    "##Code Challenge (2.2 - Step 5)\n",
    "Solve the Eulerian Path Problem.\n",
    "* **Input:** The adjacency list of a directed graph that has an Eulerian path.\n",
    "* **Output:** An Eulerian path in this graph."
   ]
  },
  {
   "cell_type": "code",
   "execution_count": 42,
   "metadata": {
    "collapsed": false
   },
   "outputs": [
    {
     "data": {
      "text/plain": [
       "eulerian_path (generic function with 1 method)"
      ]
     },
     "execution_count": 42,
     "metadata": {},
     "output_type": "execute_result"
    }
   ],
   "source": [
    "function eulerian_path(adjacency)\n",
    "    degree = Dict()\n",
    "    for vertex in keys(adjacency)\n",
    "        for source in adjacency[vertex]\n",
    "            if source in keys(degree)\n",
    "                degree[source] += 1\n",
    "            else\n",
    "                degree[source] = 1\n",
    "            end\n",
    "            if vertex in keys(degree)\n",
    "                degree[vertex] -= 1\n",
    "            else\n",
    "                degree[vertex] = -1\n",
    "            end\n",
    "        end\n",
    "    end\n",
    "    start = -1\n",
    "    finish = -1\n",
    "    for vertex in keys(degree)\n",
    "        if degree[vertex] == -1\n",
    "            start = vertex\n",
    "        elseif degree[vertex] == 1\n",
    "            finish = vertex\n",
    "        end\n",
    "    end\n",
    "    if !(finish in keys(adjacency))\n",
    "        adjacency[finish] = []\n",
    "    end\n",
    "    stack = [start]\n",
    "    curr = pop!(adjacency[start])\n",
    "    path = []\n",
    "    while !isempty(stack) || !isempty(adjacency[curr])\n",
    "        while !isempty(adjacency[curr])\n",
    "            next = pop!(adjacency[curr])\n",
    "            push!(stack, curr)\n",
    "            curr = next\n",
    "        end\n",
    "        while isempty(adjacency[curr]) && !isempty(stack)\n",
    "            push!(path, curr)\n",
    "            curr = pop!(stack)\n",
    "        end\n",
    "    end\n",
    "    reverse(push!(path, start))\n",
    "end"
   ]
  },
  {
   "cell_type": "code",
   "execution_count": 43,
   "metadata": {
    "collapsed": false
   },
   "outputs": [
    {
     "data": {
      "text/plain": [
       "11-element Array{Any,1}:\n",
       " 6\n",
       " 7\n",
       " 8\n",
       " 9\n",
       " 6\n",
       " 3\n",
       " 0\n",
       " 2\n",
       " 1\n",
       " 3\n",
       " 4"
      ]
     },
     "execution_count": 43,
     "metadata": {},
     "output_type": "execute_result"
    }
   ],
   "source": [
    "graph = Dict(0 => [2],\n",
    "1 => [3],\n",
    "2 => [1],\n",
    "3 => [0,4],\n",
    "6 => [3,7],\n",
    "7 => [8],\n",
    "8 => [9],\n",
    "9 => [6])\n",
    "eulerian_path(graph)"
   ]
  },
  {
   "cell_type": "markdown",
   "metadata": {},
   "source": [
    "##Code Challenge (2.2 - Step 6)\n",
    "Solve the String Reconstruction Problem.\n",
    "* **Input:** An integer $k$ followed by a list of $k$-mers `patterns`.\n",
    "* **Output:** A string `text` with $k$-mer composition equal to `patterns`."
   ]
  },
  {
   "cell_type": "code",
   "execution_count": 44,
   "metadata": {
    "collapsed": false
   },
   "outputs": [
    {
     "data": {
      "text/plain": [
       "reconstruct_string (generic function with 1 method)"
      ]
     },
     "execution_count": 44,
     "metadata": {},
     "output_type": "execute_result"
    }
   ],
   "source": [
    "function reconstruct_string(patterns)\n",
    "    graph = deBruijn(patterns)\n",
    "    path = eulerian_path(graph)\n",
    "    path_to_text(path)\n",
    "end"
   ]
  },
  {
   "cell_type": "code",
   "execution_count": 45,
   "metadata": {
    "collapsed": false
   },
   "outputs": [
    {
     "data": {
      "text/plain": [
       "\"AGAAAAGAATGCCATGGGGCTAATTGTTTGTTCAGCTGTTCAGACCATGATAATAGGTACATCCAGCTATGCTTGGGACATTATAAGCAGTACGGATGCGCCTCCACGATGGGGTAGCTAGTGCCCAACCTATTTCTAGGTTTAAAGAACACAGACATGAAATAATTCGGGCGGTCACCCTCTTGTTCTTGAGCAGTACCTCTATTCGGGCGTAGCCGTCGAGCGGCTGATCTGACCCTGCCCTGGGAGCCGTCTTGATCCACACAAAGGAGATGAATGTGACCACCCTGGTTGTTCCCTGCAGGTCACAACCATCCGACTAGTTATGGCCGGGAGCCTGGAGTGTGCCGGATTCGGTAGAAAACGCCTATGTTGGACGTAGCTAAATACTCCCGCTTTTCACGAAGGGGTGCAATCAGGGTTTTACACTCCCCCACTATGGCTGGCGACTTCCCTCCGACCCTCCATCCGAGCCACGATCTGCTAAAGAGTCGGTCATGGGGCCGCTTTGCTTCTAATCTTGAGGGTGTTTCTGGCAGAACGAGACGCAGACTTAGCCGTTTGCTCTAGTGCTACGGACCTCGTGGCTACCCTCATCCCGTGTGTAGCCAGCCCAGGCCTTGCTGTCGTCTAGCTTACGGAATTATAACTCCTTATTCATGCGTGGTGAAACGGAAATGTCTTTACTCGATAAATCGCAAACATAGAAGTAATCGCTAGTCAGGAGTCGTCTTTGGAAAGTGCCGGCCCCTCCGGGCGAGGGTAACCGAGACCATCTGAGACGACATCTCAGAAAGCCTTAGGGCGTCGTCATCCCAGATGGGCTTCGTTTTTGGTTTGTAACACCTTCCTCGCTGGGCGCTGTCCCGCATCCGTAGGTGCTTATAGTCTGACTAAACGCGACAATATGAATTCGGGAGTATCGGTTCTACGGCGAACGATAGCGTGGACGGGCAACCACCCTTAGACTTATACTGGAAGATCCCCTCCAAATATTAATCCCAACTACAAGCTAGGTATACCCTAAAATATACAACGGTGCTCAATTCGGGGTGGATGTGGGGCAGACTGCCCAGGCTATTCTGGTGCAGCGCCTTGTGTTATATTGGGGCCCATCTGGCCTAATGCTCTGAGAAAGCTAATTTATCGATGACCCACCTCCGCCACGACGCTTTGGAACAGCGATTTCATCGTAGACCAAGGGACGTACGTTTTTAGAAAAATATATTCGGGTTGCTGGGCAGCCTGCCCCACCTAGCAAACATATTTATTAAGGTAATGTTTAAGCTGGTGACATAACGACCTTATGGATATTAGAGAACGTATACGATAAGTGGCCATTAGCAGGCGGCTGTACCGAACCCCCAAAACCTGCACCCGTGTCCCATAATCCCAGTTAGGTACTTAGGTGGCTCCCTGCTTATGTAGGCTTGCAGACTGTTCCAAGGTTGAAGGGCTGGAAACTCTAGGGGCCCAAGCACCGAACGATCCGTCGTGTAAACAGTACGTCGGCCGGTCGGTTTGCTGCTGAATGATTCTGAAGGCTACGTTTCCACTAACCTTGCGAATGTCATGAGTCTGCCCAGTTTTGACGCTTGGATGTCACTCTGGTTTAAATGTTCCTGTTGTAGAGACAGCGCCAATTTTTCCGAGTGAAGCTAGATTAATCGGACCCGTGGTGGGCGTTAGTAAGGTCTATTCAAACTCTGTCGGGCAGGGGATGCTTTTACCGGGCCACAAATGGACTTAGACCCCCATCCCAACACTTATGCGTAGGCGTCACGATTAGCTGTAGCGACTGCACTAGGAGGATAAAGACATAAGGGTAGGCTCAGCATATTTCCAACTCATCATAAGCTACATCGTTAGGGTAGTAGGATTATGTGGTCCTGCACTCTTCGCCGATCTCAGCTTGATAACTCCTGAGTAGACTGTTTGAAAGCCGGAGCCCCTAAGAGACTTCTCTTAACTTTGTGGGATACTACAAATGCGTTGAGTATAGTCGACATCCTACAGGATCCCGCCTTTCAGCATTACGAGAGAGAGGCAGATAGACCTAAATATCGACTGAGGAAAAACCGGACATGCAATGCAGAGATATGGACGAATAGGCTGACAACAGAACACAGTACCCGTCGGACGCGCCCCGTGTGGACGATCTATCTCGGAGCCCCGATGCCATCTTTAAGTATCCGTGTAGCGATTGGACTCATGATCTACTTCGAGCTCGAGACTTGCGG\""
      ]
     },
     "execution_count": 45,
     "metadata": {},
     "output_type": "execute_result"
    }
   ],
   "source": [
    "f = open(\"data3/dataset_203_6.txt\")\n",
    "readline(f)\n",
    "patterns = readdlm(f)\n",
    "close(f)\n",
    "output = reconstruct_string(patterns)\n",
    "writedlm(\"data3/output_203_6.txt\", output)\n",
    "output"
   ]
  },
  {
   "cell_type": "markdown",
   "metadata": {},
   "source": [
    "##Code Challenge (2.2 - Step 10)\n",
    "Solve the $k$-Universal Circular String Problem.\n",
    "* **Input:** An integer $k$.\n",
    "* **Output:** A $k$-universal circular string."
   ]
  },
  {
   "cell_type": "code",
   "execution_count": 46,
   "metadata": {
    "collapsed": false
   },
   "outputs": [
    {
     "data": {
      "text/plain": [
       "universal_string (generic function with 1 method)"
      ]
     },
     "execution_count": 46,
     "metadata": {},
     "output_type": "execute_result"
    }
   ],
   "source": [
    "function universal_string(k)\n",
    "    patterns = all_strings(k)\n",
    "    graph = deBruijn(patterns)\n",
    "    start = \"\"\n",
    "    for i = 1:k-1\n",
    "        start = string(start, \"0\")\n",
    "    end\n",
    "    cycle = eulerian_cycle(graph, start)\n",
    "    path_to_text(cycle)[k:end]\n",
    "end"
   ]
  },
  {
   "cell_type": "code",
   "execution_count": 47,
   "metadata": {
    "collapsed": false
   },
   "outputs": [
    {
     "data": {
      "text/plain": [
       "all_strings (generic function with 1 method)"
      ]
     },
     "execution_count": 47,
     "metadata": {},
     "output_type": "execute_result"
    }
   ],
   "source": [
    "function all_strings(k)\n",
    "    if k == 1\n",
    "        result = [\"1\", \"0\"]\n",
    "    else\n",
    "        result = []\n",
    "        for el in all_strings(k-1)\n",
    "            push!(result, string(\"1\", el))\n",
    "            push!(result, string(\"0\", el))\n",
    "        end\n",
    "    end\n",
    "    result\n",
    "end            "
   ]
  },
  {
   "cell_type": "code",
   "execution_count": 48,
   "metadata": {
    "collapsed": false
   },
   "outputs": [
    {
     "data": {
      "text/plain": [
       "\"10000000110000001010000001110000010010000010110000011010000011110000100010000100110000101010000101110000110010000110110000111010000111110001000110001001010001001110001010010001010110001011010001011110001100110001101010001101110001110010001110110001111010001111110010010010110010011010010011110010100110010101010010101110010110110010111010010111110011001110011010110011011010011011110011101010011101110011110110011111010011111110101010110101011110101101110101110110101111110110110111110111011110111111111000000000\""
      ]
     },
     "execution_count": 48,
     "metadata": {},
     "output_type": "execute_result"
    }
   ],
   "source": [
    "universal_string(9)"
   ]
  },
  {
   "cell_type": "markdown",
   "metadata": {},
   "source": [
    "##Exercise Break (2.3 - Step 6)\n",
    "Generate the $(k,d)$-mer composition of a string"
   ]
  },
  {
   "cell_type": "code",
   "execution_count": 49,
   "metadata": {
    "collapsed": false
   },
   "outputs": [
    {
     "data": {
      "text/plain": [
       "kd_composition (generic function with 1 method)"
      ]
     },
     "execution_count": 49,
     "metadata": {},
     "output_type": "execute_result"
    }
   ],
   "source": [
    "function kd_composition(k, d, text)\n",
    "    kdmers = []\n",
    "    for i = 1:length(text)-(2*k+d)+1\n",
    "        push!(kdmers, string(\"(\",text[i:i+k-1],\"|\",text[i+k+d:i+k+d+k-1],\")\"))\n",
    "    end\n",
    "    kdmers\n",
    "end"
   ]
  },
  {
   "cell_type": "code",
   "execution_count": 50,
   "metadata": {
    "collapsed": false
   },
   "outputs": [
    {
     "data": {
      "text/plain": [
       "10-element Array{Any,1}:\n",
       " \"(AAT|CAT)\"\n",
       " \"(ATG|ATG)\"\n",
       " \"(ATG|ATG)\"\n",
       " \"(CAT|GAT)\"\n",
       " \"(CCA|GGA)\"\n",
       " \"(GCC|GGG)\"\n",
       " \"(GGG|GTT)\"\n",
       " \"(TAA|CCA)\"\n",
       " \"(TGC|TGG)\"\n",
       " \"(TGG|TGT)\""
      ]
     },
     "execution_count": 50,
     "metadata": {},
     "output_type": "execute_result"
    }
   ],
   "source": [
    "sort(kd_composition(3,2,\"TAATGCCATGGGATGTT\"))"
   ]
  },
  {
   "cell_type": "markdown",
   "metadata": {
    "collapsed": true
   },
   "source": [
    "##Charging Station - Reconstructing a String from the Paired de Bruijn Graph\n",
    "* **Input**: Integers $k$ and $d$ followed by a sequence of $(k,d)$-mers $(a_1|b_1),\\dots, (a_n|b_n)$ such that $\\text{Suffix}(a_i|b_i) = \\text{Prefix}(a_{i+1}|b_{i+1})$ for $1 \\leq i \\leq n-1$.\n",
    "* **Output**: A string `text` of length $k+d+k+n-1$ such that the $i$th $(k,d)$-mer in `text` is equal to $(a_i|b_i)$ for $1 \\leq i \\leq n$ (if such a string exists)."
   ]
  },
  {
   "cell_type": "code",
   "execution_count": 51,
   "metadata": {
    "collapsed": false
   },
   "outputs": [
    {
     "data": {
      "text/plain": [
       "string_spelled_by_gapped_patterns (generic function with 1 method)"
      ]
     },
     "execution_count": 51,
     "metadata": {},
     "output_type": "execute_result"
    }
   ],
   "source": [
    "function string_spelled_by_gapped_patterns(gappedPatterns, k, d)\n",
    "    firstPatterns = []\n",
    "    secondPatterns = []\n",
    "    for i = 1:length(gappedPatterns)\n",
    "        push!(firstPatterns, gappedPatterns[i][1])\n",
    "        push!(secondPatterns, gappedPatterns[i][2])\n",
    "    end\n",
    "    prefixString = path_to_text(firstPatterns)\n",
    "    suffixString = path_to_text(secondPatterns)\n",
    "    for i = k+d+1:length(prefixString)\n",
    "        if prefixString[i] != suffixString[i-k-d]\n",
    "            throw(error(\"There is no string spelled by the gapped patterns.\"))\n",
    "        end\n",
    "    end\n",
    "    return string(prefixString, suffixString[length(suffixString)-k-d+1:end])\n",
    "end"
   ]
  },
  {
   "cell_type": "code",
   "execution_count": 52,
   "metadata": {
    "collapsed": false
   },
   "outputs": [
    {
     "data": {
      "text/plain": [
       "\"GACCGAGCGCCGGA\""
      ]
     },
     "execution_count": 52,
     "metadata": {},
     "output_type": "execute_result"
    }
   ],
   "source": [
    "patterns = [(\"GACC\",\"GCGC\"),\n",
    "(\"ACCG\",\"CGCC\"),\n",
    "(\"CCGA\",\"GCCG\"),\n",
    "(\"CGAG\",\"CCGG\"),\n",
    "(\"GAGC\",\"CGGA\")]\n",
    "k = 4\n",
    "d = 2\n",
    "string_spelled_by_gapped_patterns(patterns, k, d)"
   ]
  },
  {
   "cell_type": "code",
   "execution_count": 53,
   "metadata": {
    "collapsed": false
   },
   "outputs": [
    {
     "data": {
      "text/plain": [
       "\"TTCAACTATTTCAAGAAGCACGGAAGAGGGGAACTGGATACGGTAAGGACCTTAGGCTTTAAAAGCGCATTGCAACGTGCCGCCCGAGAGCTATGTTGCTATAGTCAAATGCACACCCGCAATACGTCTAGTGCTTCGGAACTGTGTCGTGATAAAACGAGGGGAACTGGATACGGTAAGGACCTTAGGCTTTAAAAGCGCATTGCAAGAACTTTGTTTAGAGGGGAACTGGATACGGAGGGGAACTGGATACGGTAAGGACCTTAGGCTTTAAAAGCGCATTGCAAGTAAGGACCTTAGGCTTTAAAAGCGCATTGCAAGGCCATGTTCGGTGTAGAGGGGAACTGGATACGGTAAGGACCTTAGGCTTTAAAAGCGCATTGCAATATTCCTGAGGGGAACTGGATACGGTAAGGAGAGGGGAACTGGATACGGTAAGGACCTTAGGCTTTAAAAGCGCATTGCAACCTTAGGCTTTAAAAGCGCATTGCAAGGCATTCTTGTGTCGGAGGGGAACTGGATACGGTAAGGACCTTAGGCTTTAAAAGCGCATTGCAAGGGTTCGCAGAACGTTTTATACGTGTTCTGTTACACTGTTAGACACCCAATTAGTTCTTTGAGCAAGTAGATCGATTAATCACCCGAGGGGGAGGGGAACTGGATACGGTAAGGACCTTAGGCTTTAAAAGCGCATTGCAAAACTGGATACGGTAAGGACCTTAGGCTTTAAAAGCGCATTGCAGAGGGGAACTGGATACGGTAAGGACCTTAGGCTTTAAAAGCGCATTGCAAAACCTCTTGGGTGGCATTGAGGGGAACTGGATACGGTGAGGGGAACTGGATACGGTAAGGACCTTAGGCTTTAAAAGCGCATTGCAAAAGGACCTTAGGCTTTAAAAGCGCATTGCAAAGTGTATCGGGGTTCAGGTCCGTTCCTGCATCTATTAACGTGGAGCATACGGATACGCCACATTCCAATATCGTCATGTCGCAACTCTTATTGGCACCCAGTTAATGAGGGGAACTGGATACGGTAAGGACCTTAGGCTTTAAAAGCGCATTGCAAGGGTGAGGGGAACTGGATACGGTAAGGACCTTAGGCTTTAAAAGCGCATTGCAAACGAGGGGAACTGGATACGGTAAGGACCTTAGGCTTTAAAAGCGCATTGCAACTCAGCAGGAGGGGAACTGGATACGGTAAGGACCTTAGGCTTTAAAAGCGCATTGCAACGAGAAATCCTCCTAGTGTGCGCTATCTCCATCACTTCTATAACTGAGGTGACCAAACGTGCTAGATGGCATTGAAACATCAGTTTTACACAACAAGACCTGCACCTGAGGGGAACTGGATACGGTAAGGACCTTAGGCTTTAAAAGCGCATTGCAACATAGAGGGGAACTGGATACGGTAAGGACCTTAGGCTTTAAAAGCGCATTGCAACTGCCCAGTCGACCGGCTCCAGCCTCCTAGTGCTATTAGTCTAGGCAGCGTGAAAGGTTGGAGGCGTGGTGAGGGGAACTGGATACGGTAAGGACCTTAGGCTTTAAAAGCGCATTGCAATGCCACGGCCGTACTACATAGTGGGGCGGGTGGTAGACGGCTCGAGAAAAGTGAAACGCTTTGATATACCAAGTTAGGCCTTGATCGAGTACGGGAAAAAGAGTGCAAAACCAACTCTACATCGCGCAATGTCCTCCAGAATCTCAACATAGACTGGGATAGGACCCGGAAGGCTAGAGTGGAGTCTCTAGTAGTGGGGTTATACAGTAGGAAGGTTGAACGCCATTGTGTCGTGTAGCGGCTCCAGAATTCCCCCCGAGGGCACAGACTGTTGGCCCAGCTCTGCCCCCTCATATGCCCCCTGAACTTGCACGTAATTGTTCCGTTGCGGCAAGCGTTCCTAGGTGGAGTGTCGGGCTACACGAAGTTCTCCTTCAAGAAGAGCTAATCTAATTACGAGTGGACTCTAACGCTACACAAAGTGCGTGATCGCTTGAAA\""
      ]
     },
     "execution_count": 53,
     "metadata": {},
     "output_type": "execute_result"
    }
   ],
   "source": [
    "f = open(\"data3/dataset_6206_7.txt\")\n",
    "nums = split(readline(f))\n",
    "k = parse(nums[1])\n",
    "d = parse(nums[2])\n",
    "patterns = readdlm(f)\n",
    "for i = 1:length(patterns)\n",
    "    patterns[i] = split(patterns[i], \"|\")\n",
    "end\n",
    "close(f)\n",
    "string_spelled_by_gapped_patterns(patterns, k, d)"
   ]
  },
  {
   "cell_type": "markdown",
   "metadata": {},
   "source": [
    "##Code Challenge (2.3 - Step 14)\n",
    "Solve the String Reconstruction from Read-Pairs Problem.\n",
    "* **Input:** Integers $k$ and $d$ followed by a collection of paired $k$-mers `pairedReads`.\n",
    "* **Output:** A string `text` with $(k,d)$-mer composition equal to `pairedReads`."
   ]
  },
  {
   "cell_type": "code",
   "execution_count": 54,
   "metadata": {
    "collapsed": false
   },
   "outputs": [
    {
     "data": {
      "text/plain": [
       "paired_deBruijn (generic function with 1 method)"
      ]
     },
     "execution_count": 54,
     "metadata": {},
     "output_type": "execute_result"
    }
   ],
   "source": [
    "function paired_deBruijn(patterns)\n",
    "    adjacency = Dict()\n",
    "    for pair in patterns\n",
    "        prefix1 = pair[1][1:end-1]\n",
    "        suffix1 = pair[1][2:end]\n",
    "        prefix2 = pair[2][1:end-1]\n",
    "        suffix2 = pair[2][2:end]\n",
    "        prefixPair = (prefix1, prefix2)\n",
    "        suffixPair = (suffix1, suffix2)\n",
    "        if haskey(adjacency, prefixPair)\n",
    "            push!(adjacency[prefixPair], suffixPair)\n",
    "        else\n",
    "            adjacency[prefixPair] = [suffixPair]\n",
    "        end\n",
    "    end\n",
    "    adjacency\n",
    "end"
   ]
  },
  {
   "cell_type": "code",
   "execution_count": 55,
   "metadata": {
    "collapsed": false
   },
   "outputs": [
    {
     "data": {
      "text/plain": [
       "reconstruct_string_paired (generic function with 1 method)"
      ]
     },
     "execution_count": 55,
     "metadata": {},
     "output_type": "execute_result"
    }
   ],
   "source": [
    "function reconstruct_string_paired(k, d, pairedReads)\n",
    "    graph = paired_deBruijn(pairedReads)\n",
    "    path = eulerian_path(graph)\n",
    "    string_spelled_by_gapped_patterns(path, k, d)\n",
    "end"
   ]
  },
  {
   "cell_type": "code",
   "execution_count": 63,
   "metadata": {
    "collapsed": false
   },
   "outputs": [
    {
     "data": {
      "text/plain": [
       "\"TAATGCCATGGGATGTT\""
      ]
     },
     "execution_count": 63,
     "metadata": {},
     "output_type": "execute_result"
    }
   ],
   "source": [
    "pairs = [(\"AAT\",\"CCA\"),\n",
    "(\"ATG\",\"CAT\"),\n",
    "(\"ATG\",\"GAT\"),\n",
    "(\"CAT\",\"GGA\"),\n",
    "(\"CCA\",\"GGG\"),\n",
    "(\"GCC\",\"TGG\"),\n",
    "(\"GGA\",\"GTT\"),\n",
    "(\"GGG\",\"TGT\"),\n",
    "(\"TAA\",\"GCC\"),\n",
    "(\"TGC\",\"ATG\"),\n",
    "(\"TGG\",\"ATG\")]\n",
    "k = 3\n",
    "d = 1\n",
    "reconstruct_string_paired(k, d, pairs)"
   ]
  },
  {
   "cell_type": "code",
   "execution_count": 67,
   "metadata": {
    "collapsed": false
   },
   "outputs": [
    {
     "data": {
      "text/plain": [
       "\"CACCGATACTGATTCTGAAGCTT\""
      ]
     },
     "execution_count": 67,
     "metadata": {},
     "output_type": "execute_result"
    }
   ],
   "source": [
    "pairs = [(\"ACC\",\"ATA\"),\n",
    "(\"ACT\",\"ATT\"),\n",
    "(\"ATT\",\"TGA\"),\n",
    "(\"ATA\",\"TGA\"),\n",
    "(\"CAC\",\"GAT\"),\n",
    "(\"GAT\",\"CTG\"),\n",
    "(\"CCG\",\"TAC\"),\n",
    "(\"CTG\",\"TTC\"),\n",
    "(\"CGA\",\"ACT\"),\n",
    "(\"CTG\",\"AGC\"),\n",
    "(\"GAA\",\"CTT\"),\n",
    "(\"GAT\",\"CTG\"),\n",
    "(\"TAC\",\"GAT\"),\n",
    "(\"TCT\",\"AAG\"),\n",
    "(\"TGA\",\"TCT\"),\n",
    "(\"TGA\",\"GCT\"),\n",
    "(\"TTC\",\"GAA\")]\n",
    "reconstruct_string_paired(3,1,shuffle(pairs))"
   ]
  },
  {
   "cell_type": "code",
   "execution_count": 97,
   "metadata": {
    "collapsed": false
   },
   "outputs": [
    {
     "data": {
      "text/plain": [
       "\"GCAACCCGAATTGAACGCGCTCCAACGGTTTTTCTATGGCTCGAGTTCTGAGGATCGGGACCGGGCACACTCACGGTCCCGATGGGAACACGCACGGTAACATTTTGCATCACTGCCGCCCTGGGGAGTCAAAGAGCACCGGATGAAAAAGTAGCTTGCGCGGGGCATAGCCACGTATTAATGGTCCCTCGCGTGGACCACATCAGCCTAATCTAAATAGGTTTACCAACTTTTCGTTGATCTCGGATTAGATGACTCTGTAGATGCGTCGCTACTCCCCACGGCTTTGGCTGATTCGGGATAATTTCCTTCCGCTCTGCGTCAACTTATCAGTAGCCACTCTGGCGGCCCCCTTAACGCAATTGTTTTACTCCCAAGTTACACGTACGACTTTGTGGCTCATCCTAATAACAAGATTCACCTCATAAGAATGCTTCCACATACGAATTGCACTTAACCGTCATGTAGTGCCTTTAGCTCTTATGTTCCCGATGCTAAATAGAACTGGGAGTCTCTTTCAGGGTGGGCTCACCCCAACTTTAAGACTCTCCCGGCGTCGGGTAGAGGCAGCAACACACCTGGTATGCCGTGACGCACACATGTATGATAACTCCTCCAATGAAACGTGATAGGTTACCGAGTGCATTAATCGGCTGGAAGTAGCGGTTTAAATCGCTAACGAGCTAGCACCATCCCCCCCACTTAACCGTCATGTAGTGCCTTTAGCTCTTATGTTCCCGATGCTAAATCTCAGATACGGTTGCTATATCAAAGTTTCTGAATTTGGTATGGCTATACGGGGATATTTTACTTCACTTAACCGTCATGTAGTGCCTTTAGCTCTTATGTTCCCGATGCTAAATGCAGCCGTATAAACCAAGCCCCAGCGCTGTCTTACAATTAGTAAGTGATCTCGGCATATACCAACATCCCGTAGTCACTGGAATTTTGAGGTGAATGAACGTTCAGACTTAACAGGCGGCACCACACCTGCCCCGTTCTGGAATTGACCCCTCTGGTGCGGCTGGAAACGCTTATGGTAAAATCGACTCTTACGCTATTCTGCCACTTAACCGTCATGTAGTGCCTTTAGCTCTTATGTTCCCGATGCTAAATTCGTACTAAGCGGCTTAATGGTATACTTAACAGGATTGATATCGTCGATCGACATCTCTACATTCGTAGCATTCATTGAGGAAAGCACTTAACCGTCATGTAGTGCCTTTAGCTCTTATGTTCCCGATGCTAAATTTAGTCTGAGCAGAGCGCCCTCCGCACTTAACCGTCATGTAGTGCCTTTAGCTCTTATGTTCCCGATGCTAAATGCTTTAGTAGGGCGGGCGCGAAGAACCTATTATACGGCACGCACCGGGAACTCACTTAACCGTCATGTAGTGCCTTTAGCTCTTATGTTCCCGATGCTAAATTAACTTATTATCTCTGTTGACGTATCACCAATGTGTGCCGAGCATGTGGGAGCCTTAAGGCCATTTCCTGTCAGAATTAAATTAGCCATCGGTAAGACAGGGGTAATTCTAACACAGGGGTCGTTAGACACACGTCTAGGCAGGCGCGACTTATCTATAGGGCCTAGTGTAAAACGACTGCAAGTGCAGTATGTTTTTATACGAAATTTTCACTAGGGAACTTGCGGAGGTGGTTAATGGAACATCTCCAGTGGAAAAAGCACTTAACCGTCATGTAGTGCCTTTAGCTCTTATGTTCCCGATGCTAAATGCTATTACCACTTAACCGTCATGTAGTGCCTTTAGCTCTTATGTTCCCGATGCTAAATGGCAGTCTGTGCCTCGCGGTTCTGTCATATCCTGCCTTTATTGAACAAACGTTGGACCAGCACTCCGGCACTGAATCGTTAGCGCCGCACATGAGTATAGGAGCCGTAAGAACCCGTACTGACGTACTTGCGTAGGCTAGTTAGCAGTCCGTGAGGGACTCTAGCTGCCACATATACAAGATTGCCGTAGGACGTCTTTAATCTACCGCGTTGAGGAGCGGCTGGCCTGCGTGGCTACCAGCTAGTCCGTCCCGAAATGTATAAAAGGTGCTGCCATCAATCGAGGTAGGGCATTGGCAGGTCGTCTAGAGTCGCTGGGCGGTTGGTCACCTATCGGGAGCTTTGAATACGTGTCCGTGTCAAAAATGCTTTGCCTTTGCCACTGCCGGGTACTTCAATATAAAATCCACACACTAGATAGCGGTTGACGCGGAAATTCTCGGTACATTGGAATCCACGGGCCCGCGTTGTGAAAGCATACCCTTAAATCGCCGCTGTTTTATCGAAGATGCCCCCGTGAACTGGACGACACCTTTAACTATCGTGACCCGTTCCATACGGGGTTGATATGGAGCGTCGAACCCAGGGATTCGCAGCAGCCCTACGAAACGGTCCATCGGCCCTAAGTTTCAACCGGTAACAGGGTCATTTGGCGCCGACGTGTCCCCCGTCGAGCTCGCTTCTCGAACCCCGCCAGGGTCAGCGTATGTTCTGGGTGAAAACCGGTTCACTTAACCGTCATGTAGTGCCTTTAGCTCTTATGTTCCCGATGCTAAATATCGAACCGAAAAGGATCAATCATACAAGGACTCATGATTACAAGCTTACCTGTGCGTAGAAGCCCCTGATTCCGTGATTCTGTAGTATTGGCTCGACGGGGGATCCAATCCCTGAAAATCATTACGTTAGGACCTACACTTAACCGTCATGTAGTGCCTTTAGCTCTTATGTTCCCGATGCTAAATACGTATAAATGAGCCCCTGTTGATGCCGTTAACTGATCTGCCAGCCTCAGTCATACTAGTGAAAAAGTCATCGGTTCGGACTTTCGTCCCGTTATGCGTGGTCCACTTAACCGTCATGTAGTGCCTTTAGCTCTTATGTTCCCGATGCTAAATGGGCAGAGAGCACGCAGAGACGCTCTTGCCACGTGTAGTTGGTGGCGAAGGGGCGACGGTTTTCCCATTTAATGCATCCTATGGATATATGTGCTTTGTCGTGCGTATAACGTGTTGATGGGTATTACATCGGCTAGAACCTATCTTAGTGGAGGAGAATCCCACTCAGGACCCAACGGCCGTTCTCGTGACCCAACTACCGCACACAAATTTGCGCTGCCGTCTGTGCATGACCAGGCCACATCTAACAACGGGTAGTCGTCCTCACGTTCCCGATGGAACAACAGGCGGGCGCTCAGCAACTGCGCGCTATCCCCCCGGGTCCCCACTTAACCGTCATGTAGTGCCTTTAGCTCTTATGTTCCCGATGCTAAATATAGTCAGATCGGCAGGATACTAACATTGGAGCTCTTTAATGTTGGAGGCCCTTTAAGCTCCGGGACCTTGAGCCGGCTGGTTTACACCTTTAGAACAAAGGCGCGATCTCTTGAACCTGCACGCAGTTACTAACACGCATGCCCCTTCAAATATGCATATCTTATGGACTGCATTCAGAGAACACGTCTAGTGTATGAGATATATCTAATCTAACCGCAGTCACCGCAAATTAGAACCGAACACCCTTCGAATCACTCGATTTCGCCGGTTCGGACGCCTACCTTCCGAATAAGTAGATAGTTGAGCGACGTGACTAAAACTAATGAGGCACTTAACCGTCATGTAGTGCCTTTAGCTCTTATGTTCCCGATGCTAAATTCGACTGGAGGCAGTAACCGAGGCAGTCCGGATCGACTATGTCACCAGAGGTGTGACCATAGCGCGTTCACGGAAAGACGTCCGGTAGCATACAATCATCAGAAGGCAATTTTATAACGTATGAGGACTTCTCGACGATGCTTTTACACCATGCTGCTGGTCGTTTTCGGTCTGGTGTTCAGGGCGACTACCGCACCAGGATGCACAGGTTTGTGAGTATTACTAGTGGGTTGGATCACTTAACCGTCATGTAGTGCCTTTAGCTCTTATGTTCCCGATGCTAAATCTCCTTCAATCGTTCCACTTAACCGTCATGTAGTGCCTTTAGCTCTTATGTTCCCGATGCTAAATGACCTTGAGCTGAATACTACCCGTCCACATATACGTTGGGCCCGACGAAAAAAACTCGAGAACTAGCTATCAAAAAGTGTCTAGCCCAATACGGCGTTTTCAAATTACCTATAAGAATCACGGATCAATTAGGTAGTAGCCGGCAGATGACGCCGGTAAAACTCTATCTTCAGCGGCGACGAGATACGTGCTTGGGTAGCTTCCAGGGAGTCTACAACGTTCACCGTGTTCCGCGATATATGTTTGCACGGCGGCGCCATCTTGATAGGTTGACTGTTCACCCCGGACCCGGAAAATTCAAGCCATCAGCCCAAGCTGACATCTCCCGGAAAGTAACGTGCTAAAGTGCCTGGGAACAATCGACCGCGGGCCAGCTTGCTGCCCATCCCACTTGATCTACCTACCGGCCACCCAAAGCCGATTTCAGCAACCCTTTCTTATAGCCTTCAAGTTCCGCACTTAATGTTTCTTTGTATCTTCTAACTTAATTTTGTCCTTTTCCTCCTGGTTTACACACACTTAACCGTCATGTAGTGCCTTTAGCTCTTATGTTCCCGATGCTAAATTAGCTCTTCTCCTCTGATGAGTAGGAAACATGCCATCCGCGCAAAACTCATAAAACAAGAATATTAGAAGCCGTCGGCGCTGTTAGCCTAAATGTATTATAAGGATTACGGTGGCCAGCTGTCGGAGCGGAGCCAGTTTCTTTTTCCCTTCCCTGGCACCTTGTATGAATGGGACGGTGCACACTTAACCGTCATGTAGTGCCTTTAGCTCTTATGTTCCCGATGCTAAATCTTGAAACGGCTTCTGAGTACCGGGTCCATCAGATGTGGCCCACATCCGGCGAGCGCACCTCAACTGTTCGAAACCGCGATCGTTTTGTTGTTTTCTGATCCATCCCCATTTCCGATTTATTCCTCATATTTGAGGGATTGTTTTTTCATAAGGACACACTTAACCGTCATGTAGTGCCTTTAGCTCTTATGTTCCCGATGCTAAATAATCACGCCCATGCAGGCAGCGAAAGAAAGTAACGCTTGTTCCTACCTTGCGACTAGCCATTTCTAGACGAATCGTTTTTAATTTCTAAGACGCGATTAGTAGCTCGAAGAACCAAGTCTTTGGACGACTATACCACGGGTCAGGGAGGTCATGGACTATCCCCAAACTAGTATAAACCTGTCATTCACATGACTGAGACGGGTACCCACATCGGGAAAGGAATTGAGTTAGTTGCGAAGTGGACCAGGGCCTGGACCCACACTTAACCGTCATGTAGTGCCTTTAGCTCTTATGTTCCCGATGCTAAATTCTAGGACAGGGGTCAAGAGAACCCTCGAAACTCAGTACGGCCAGGAAACACAACATCGGTCATCCGTGCGTCTTAACGGAACCGAGACACTCGCACCCAGATTATTATTCTGGTTTCACTGTCAGAGTCCGCGTCAGGAATATGCTATTGTGTCAGTCGACGTATGAGATCGTGCTCGGATAAAAGAGTTGCCCGGGCACGACTGGATTCAACACAGTAAGATTTGCTGGTTCCAAGTTGGATGAATAGGCACTCACAAGACTGCATGCTAATACAATACTTGGTTTGTCCATTAGGCCCAGATACTGCAAGGCGCTCCCCGCGACGGTTCGCTGACCAAACATGACTAAAACCCCCTTTTAGGTCACAACCATAAGACTGTAGGGTGCATACGATGAGTACGTCGGAACGATCCCCACCAGTTAAGACAAATGATTGACGCAGCAGGCGTTCAATCCATGTGGAGGCTATCTTACGTACTGCGGCCCCGGATATATGCAGGATAGGGGAAAGCGAGTTTAAATCTTATGGCAGGCGAATTTGGTGCCCCCGATTAAGGTCGGAGAGTGTGTGGTGGTTTTATTCATCACAAGAGATTAGCAGCAGCGCTAGCCACGCAGGCCACTTTTCCGTAGCAGACCTCGCCGCGATGTGCCTTATGATGG\""
      ]
     },
     "execution_count": 97,
     "metadata": {},
     "output_type": "execute_result"
    }
   ],
   "source": [
    "f = open(\"data3/dataset_204_14.txt\")\n",
    "nums = split(readline(f))\n",
    "k = parse(nums[1])\n",
    "d = parse(nums[2])\n",
    "patterns = readdlm(f)\n",
    "for i = 1:length(patterns)\n",
    "    patterns[i] = split(patterns[i], \"|\")\n",
    "end\n",
    "close(f)\n",
    "reconstruct_string_paired(k,d,patterns)"
   ]
  },
  {
   "cell_type": "markdown",
   "metadata": {},
   "source": [
    "##Charging Station - Maximal Non-Branching Paths in a Graph\n",
    "* **Input**: The adjacency list of a graph whose nodes are integers.\n",
    "* **Output**: The collection of all maximal nonbranching paths in this graph."
   ]
  },
  {
   "cell_type": "code",
   "execution_count": 108,
   "metadata": {
    "collapsed": false
   },
   "outputs": [
    {
     "data": {
      "text/plain": [
       "maximal_nonbranching (generic function with 1 method)"
      ]
     },
     "execution_count": 108,
     "metadata": {},
     "output_type": "execute_result"
    }
   ],
   "source": [
    "function maximal_nonbranching(adjacency)\n",
    "    paths = []\n",
    "    degree = degrees(adjacency) # [in, out]\n",
    "    for v in keys(degree)\n",
    "        if !(degree[v][1] == 1 && degree[v][2] == 1)\n",
    "            if degree[v][2] > 0\n",
    "                for w in adjacency[v]\n",
    "                    nonBranchingPath = [(v, w)]\n",
    "                    while degree[w][1] == 1 && degree[w][2] == 1\n",
    "                        x = adjacency[w][1]\n",
    "                        push!(nonBranchingPath, (w, x))\n",
    "                        w = x\n",
    "                    end\n",
    "                    push!(paths, nonBranchingPath)\n",
    "                end\n",
    "            end\n",
    "        end\n",
    "    end\n",
    "    paths\n",
    "end"
   ]
  },
  {
   "cell_type": "code",
   "execution_count": 109,
   "metadata": {
    "collapsed": false
   },
   "outputs": [
    {
     "data": {
      "text/plain": [
       "degrees (generic function with 1 method)"
      ]
     },
     "execution_count": 109,
     "metadata": {},
     "output_type": "execute_result"
    }
   ],
   "source": [
    "# degree[v] = [in(v), out(v)]\n",
    "function degrees(adjacency)\n",
    "    degree = Dict()\n",
    "    for source in keys(adjacency)\n",
    "        if haskey(degree, source)\n",
    "            degree[source][2] += length(adjacency[source])\n",
    "        else\n",
    "            degree[source] = [0, length(adjacency[source])]\n",
    "        end\n",
    "        for sink in adjacency[source]\n",
    "            if haskey(degree, sink)\n",
    "                degree[sink][1] += 1\n",
    "            else\n",
    "                degree[sink] = [1, 0]\n",
    "            end\n",
    "        end\n",
    "    end\n",
    "    degree\n",
    "end"
   ]
  },
  {
   "cell_type": "code",
   "execution_count": 110,
   "metadata": {
    "collapsed": false
   },
   "outputs": [
    {
     "data": {
      "text/plain": [
       "3-element Array{Any,1}:\n",
       " [(3,4)]      \n",
       " [(3,5)]      \n",
       " [(1,2),(2,3)]"
      ]
     },
     "execution_count": 110,
     "metadata": {},
     "output_type": "execute_result"
    }
   ],
   "source": [
    "dict = Dict(1 => [2],\n",
    "2 => [3],\n",
    "3 => [4,5],\n",
    "6 => [7],\n",
    "7 => [6])\n",
    "maximal_nonbranching(dict)"
   ]
  },
  {
   "cell_type": "markdown",
   "metadata": {},
   "source": [
    "##Code Challenge (2.4 - Step 5)\n",
    "Generate the contigs from a collection of reads (with imperfect coverage).\n",
    "* **Input:** A collection of $k$-mers `patterns`.\n",
    "* **Output:** All contigs in $\\text{DeBruijn}($ `patterns` $)$."
   ]
  },
  {
   "cell_type": "code",
   "execution_count": 117,
   "metadata": {
    "collapsed": false
   },
   "outputs": [
    {
     "data": {
      "text/plain": [
       "contigs (generic function with 1 method)"
      ]
     },
     "execution_count": 117,
     "metadata": {},
     "output_type": "execute_result"
    }
   ],
   "source": [
    "function contigs(patterns)\n",
    "    graph = deBruijn(patterns)\n",
    "    paths = maximal_nonbranching(graph)\n",
    "    contigs = []\n",
    "    for path in paths\n",
    "        contig = path[1][1]\n",
    "        for edge in path\n",
    "            contig = string(contig, edge[2][end])\n",
    "        end\n",
    "        push!(contigs, contig)\n",
    "    end\n",
    "    contigs\n",
    "end"
   ]
  },
  {
   "cell_type": "code",
   "execution_count": 118,
   "metadata": {
    "collapsed": false
   },
   "outputs": [
    {
     "data": {
      "text/plain": [
       "7-element Array{Any,1}:\n",
       " \"ATG\" \n",
       " \"ATG\" \n",
       " \"CAT\" \n",
       " \"AGA\" \n",
       " \"TGT\" \n",
       " \"TGGA\"\n",
       " \"GAT\" "
      ]
     },
     "execution_count": 118,
     "metadata": {},
     "output_type": "execute_result"
    }
   ],
   "source": [
    "patterns = [\"ATG\",\n",
    "\"ATG\",\n",
    "\"TGT\",\n",
    "\"TGG\",\n",
    "\"CAT\",\n",
    "\"GGA\",\n",
    "\"GAT\",\n",
    "\"AGA\"]\n",
    "contigs(patterns)"
   ]
  },
  {
   "cell_type": "code",
   "execution_count": 123,
   "metadata": {
    "collapsed": false
   },
   "outputs": [],
   "source": [
    "f = open(\"data3/dataset_205_5.txt\")\n",
    "patterns = readdlm(f)[:,1]\n",
    "close(f)\n",
    "output = contigs(patterns)\n",
    "writedlm(\"data3/output_205_5.txt\", output)"
   ]
  }
 ],
 "metadata": {
  "kernelspec": {
   "display_name": "Julia 0.4.6",
   "language": "julia",
   "name": "julia-0.4"
  },
  "language_info": {
   "file_extension": ".jl",
   "mimetype": "application/julia",
   "name": "julia",
   "version": "0.4.6"
  }
 },
 "nbformat": 4,
 "nbformat_minor": 0
}
